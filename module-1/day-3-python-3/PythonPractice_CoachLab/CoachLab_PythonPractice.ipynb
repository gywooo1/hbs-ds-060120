{
 "cells": [
  {
   "cell_type": "markdown",
   "metadata": {},
   "source": [
    "# Python Practice\n",
    "\n",
    "![boston city image, from the boston herald](bostoncity_source-bostonherald.jpg)\n",
    "\n",
    "I don't know about you all, but I miss traveling right now! Maybe looking at some details about cities around the world will sate my travel urges for now - so let's use a dictionary of cities to practice variable types, lists,  dictionaries and for-loops.\n",
    "\n",
    "This cities dictionary may look familiar to some of you - it was also used in your Prework, in the [Looping Over Collections Lab](https://learn.co/tracks/data-science-enterprise-harvard-business-school-summer-bootcamp/optional-prework-python/introduction-to-python/looping-over-collections-lab)"
   ]
  },
  {
   "cell_type": "code",
   "execution_count": 1,
   "metadata": {},
   "outputs": [],
   "source": [
    "# Here's a list of city dictionaries\n",
    "cities_dict_list = [\n",
    "    {'City': 'Buenos Aires',\n",
    "     'Country': 'Argentina',\n",
    "     'Population': 2891000,\n",
    "     'Area': 4758},\n",
    "    {'City': 'Toronto',\n",
    "     'Country': 'Canada',\n",
    "     'Population': 2800000,\n",
    "     'Area': 2731},\n",
    "    {'City': 'Pyeongchang',\n",
    "     'Country': 'South Korea',\n",
    "     'Population': 2581000,\n",
    "     'Area': 3194},\n",
    "    {'City': 'Marrakesh',\n",
    "     'Country': 'Morocco',\n",
    "     'Population': 928850,\n",
    "     'Area': 200},\n",
    "    {'City': 'Albuquerque',\n",
    "     'Country': 'USA',\n",
    "     'Population': 559277,\n",
    "     'Area': 491},\n",
    "    {'City': 'Los Cabos',\n",
    "     'Country': 'Mexico',\n",
    "     'Population': 287671,\n",
    "     'Area': 3750},\n",
    "    {'City': 'Greenville',\n",
    "     'Country': 'USA',\n",
    "     'Population': 84554,\n",
    "     'Area': 68},\n",
    "    {'City': 'Archipelago Sea',\n",
    "     'Country': 'Finland',\n",
    "     'Population': 60000,\n",
    "     'Area': 8300},\n",
    "    {'City': 'Walla Walla Valley',\n",
    "     'Country': 'Oregon',\n",
    "     'Population': 32237,\n",
    "     'Area': 33},\n",
    "    {'City': 'Salina Island',\n",
    "     'Country': 'Italy',\n",
    "     'Population': 4000,\n",
    "     'Area': 27},\n",
    "    {'City': 'Solta',\n",
    "     'Country': 'Croatia',\n",
    "     'Population': 1700,\n",
    "     'Area': 59},\n",
    "    {'City': 'Iguazu Falls',\n",
    "     'Country': 'Argentina',\n",
    "     'Population': 0,\n",
    "     'Area': 672}\n",
    "]"
   ]
  },
  {
   "cell_type": "markdown",
   "metadata": {},
   "source": [
    "Let's look at the first city in the list of city dictionaries, Buenos Aires:"
   ]
  },
  {
   "cell_type": "code",
   "execution_count": 5,
   "metadata": {},
   "outputs": [
    {
     "data": {
      "text/plain": [
       "{'City': 'Buenos Aires',\n",
       " 'Country': 'Argentina',\n",
       " 'Population': 2891000,\n",
       " 'Area': 4758}"
      ]
     },
     "execution_count": 5,
     "metadata": {},
     "output_type": "execute_result"
    }
   ],
   "source": [
    "cities_dict_list[0]"
   ]
  },
  {
   "cell_type": "markdown",
   "metadata": {},
   "source": [
    "Save it into a new variable, `first_city`:"
   ]
  },
  {
   "cell_type": "code",
   "execution_count": 6,
   "metadata": {},
   "outputs": [],
   "source": [
    "first_city = cities_dict_list[0]"
   ]
  },
  {
   "cell_type": "markdown",
   "metadata": {},
   "source": [
    "Let's say I want to print all of the details about Buenos Aires nicely? How can we use `f-string` or `format` to do that?"
   ]
  },
  {
   "cell_type": "code",
   "execution_count": 15,
   "metadata": {},
   "outputs": [
    {
     "name": "stdout",
     "output_type": "stream",
     "text": [
      "Buenos Aires is in country Argentina with population 2891000 and the area is 4758\n"
     ]
    }
   ],
   "source": [
    "print(f\"{first_city['City']} is in country {first_city['Country']} with population {first_city['Population']} and the area is {first_city['Area']}\")"
   ]
  },
  {
   "cell_type": "code",
   "execution_count": null,
   "metadata": {},
   "outputs": [],
   "source": []
  },
  {
   "cell_type": "markdown",
   "metadata": {},
   "source": [
    "Let's use a for-loop and do the same thing for each city in `cities_dict`:"
   ]
  },
  {
   "cell_type": "code",
   "execution_count": 17,
   "metadata": {
    "scrolled": true
   },
   "outputs": [
    {
     "name": "stdout",
     "output_type": "stream",
     "text": [
      "Buenos Aires is in country Argentina with population 2891000 and the area is 4758\n",
      "----\n",
      "Toronto is in country Canada with population 2800000 and the area is 2731\n",
      "----\n",
      "Pyeongchang is in country South Korea with population 2581000 and the area is 3194\n",
      "----\n",
      "Marrakesh is in country Morocco with population 928850 and the area is 200\n",
      "----\n",
      "Albuquerque is in country USA with population 559277 and the area is 491\n",
      "----\n",
      "Los Cabos is in country Mexico with population 287671 and the area is 3750\n",
      "----\n",
      "Greenville is in country USA with population 84554 and the area is 68\n",
      "----\n",
      "Archipelago Sea is in country Finland with population 60000 and the area is 8300\n",
      "----\n",
      "Walla Walla Valley is in country Oregon with population 32237 and the area is 33\n",
      "----\n",
      "Salina Island is in country Italy with population 4000 and the area is 27\n",
      "----\n",
      "Solta is in country Croatia with population 1700 and the area is 59\n",
      "----\n",
      "Iguazu Falls is in country Argentina with population 0 and the area is 672\n",
      "----\n"
     ]
    }
   ],
   "source": [
    "for cities in cities_dict_list:\n",
    "    print(f\"{cities['City']} is in country {cities['Country']} with population {cities['Population']} and the area is {cities['Area']}\")\n",
    "    print('----')"
   ]
  },
  {
   "cell_type": "markdown",
   "metadata": {},
   "source": [
    "Sweet!\n",
    "\n",
    "Now, let's see if we can find out what the total population is across all of our cities:"
   ]
  },
  {
   "cell_type": "code",
   "execution_count": 19,
   "metadata": {},
   "outputs": [
    {
     "name": "stdout",
     "output_type": "stream",
     "text": [
      "10230289\n"
     ]
    }
   ],
   "source": [
    "total_population = 0 \n",
    "for cities in cities_dict_list:\n",
    "    total_population += cities['Population']\n",
    "print(total_population)"
   ]
  },
  {
   "cell_type": "markdown",
   "metadata": {},
   "source": [
    "Note: you can use `f-string`s or `.format` to make that string look nicer.\n",
    "\n",
    "Start with this example: \" `print(f'{value:,}')` \" and see if you can get it to work with the total population we calculated above:"
   ]
  },
  {
   "cell_type": "code",
   "execution_count": 23,
   "metadata": {},
   "outputs": [
    {
     "name": "stdout",
     "output_type": "stream",
     "text": [
      "total population: 10,230,289\n"
     ]
    }
   ],
   "source": [
    "print(f'total population: {total_population:,}')"
   ]
  },
  {
   "cell_type": "markdown",
   "metadata": {},
   "source": [
    "Unfortunately, and you may have already seen this by now, but it says that `Walla Walla Valley` is in `Country: Oregon` - and Oregon is not a country! Let's update that value to say `USA`:"
   ]
  },
  {
   "cell_type": "code",
   "execution_count": 26,
   "metadata": {},
   "outputs": [
    {
     "data": {
      "text/plain": [
       "[{'City': 'Buenos Aires',\n",
       "  'Country': 'Argentina',\n",
       "  'Population': 2891000,\n",
       "  'Area': 4758},\n",
       " {'City': 'Toronto', 'Country': 'Canada', 'Population': 2800000, 'Area': 2731},\n",
       " {'City': 'Pyeongchang',\n",
       "  'Country': 'South Korea',\n",
       "  'Population': 2581000,\n",
       "  'Area': 3194},\n",
       " {'City': 'Marrakesh',\n",
       "  'Country': 'Morocco',\n",
       "  'Population': 928850,\n",
       "  'Area': 200},\n",
       " {'City': 'Albuquerque', 'Country': 'USA', 'Population': 559277, 'Area': 491},\n",
       " {'City': 'Los Cabos',\n",
       "  'Country': 'Mexico',\n",
       "  'Population': 287671,\n",
       "  'Area': 3750},\n",
       " {'City': 'Greenville', 'Country': 'USA', 'Population': 84554, 'Area': 68},\n",
       " {'City': 'Archipelago Sea',\n",
       "  'Country': 'Finland',\n",
       "  'Population': 60000,\n",
       "  'Area': 8300},\n",
       " {'City': 'Walla Walla Valley',\n",
       "  'Country': 'USA',\n",
       "  'Population': 32237,\n",
       "  'Area': 33},\n",
       " {'City': 'Salina Island', 'Country': 'Italy', 'Population': 4000, 'Area': 27},\n",
       " {'City': 'Solta', 'Country': 'Croatia', 'Population': 1700, 'Area': 59},\n",
       " {'City': 'Iguazu Falls',\n",
       "  'Country': 'Argentina',\n",
       "  'Population': 0,\n",
       "  'Area': 672}]"
      ]
     },
     "execution_count": 26,
     "metadata": {},
     "output_type": "execute_result"
    }
   ],
   "source": [
    "cities_dict_list[8]['Country'] = 'USA'\n",
    "cities_dict_list"
   ]
  },
  {
   "cell_type": "markdown",
   "metadata": {},
   "source": [
    "Now let's use a for loop and an `if` statement to print out all the cities that are in `Country: USA`:"
   ]
  },
  {
   "cell_type": "code",
   "execution_count": 27,
   "metadata": {},
   "outputs": [
    {
     "name": "stdout",
     "output_type": "stream",
     "text": [
      "Albuquerque\n",
      "Greenville\n",
      "Walla Walla Valley\n"
     ]
    }
   ],
   "source": [
    "for cities in cities_dict_list:\n",
    "    if cities['Country'] == 'USA':\n",
    "        print(cities['City'])"
   ]
  },
  {
   "cell_type": "markdown",
   "metadata": {},
   "source": [
    "Now let's say we want to only grab cities where the population is more than 100,000 people. Write a for loop that does so:"
   ]
  },
  {
   "cell_type": "code",
   "execution_count": 31,
   "metadata": {},
   "outputs": [
    {
     "name": "stdout",
     "output_type": "stream",
     "text": [
      "these cities have population more than 100,000:\n",
      "\n",
      "\n",
      "Buenos Aires\n",
      "Toronto\n",
      "Pyeongchang\n",
      "Marrakesh\n",
      "Albuquerque\n",
      "Los Cabos\n"
     ]
    }
   ],
   "source": [
    "print('these cities have population more than 100,000:')\n",
    "print('\\n')\n",
    "for cities in cities_dict_list:\n",
    "    if cities['Population'] > 100000:\n",
    "        print(cities['City'])"
   ]
  },
  {
   "cell_type": "markdown",
   "metadata": {},
   "source": [
    "## Level Up!\n",
    "\n",
    "Below, I have defined a dictionary matching each country to its continent:"
   ]
  },
  {
   "cell_type": "code",
   "execution_count": 32,
   "metadata": {},
   "outputs": [],
   "source": [
    "continents_dict = {\n",
    "    'Argentina': 'South America',\n",
    "    'Canada': 'North America',\n",
    "    'South Korea': 'Asia',\n",
    "    'Morocco': 'Africa',\n",
    "    'USA': 'North America',\n",
    "    'Mexico': 'North America',\n",
    "    'Finland': 'Europe',\n",
    "    'Italy': 'Europe',\n",
    "    'Croatia': 'Europe'\n",
    "}"
   ]
  },
  {
   "cell_type": "markdown",
   "metadata": {},
   "source": [
    "How can we add each of these continents into our earlier dictionary, `cities_dict_list`?"
   ]
  },
  {
   "cell_type": "code",
   "execution_count": 44,
   "metadata": {},
   "outputs": [
    {
     "name": "stdout",
     "output_type": "stream",
     "text": [
      "[{'City': 'Buenos Aires', 'Country': 'Argentina', 'Population': 2891000, 'Area': 4758, 'Continent': 'South America'}, {'City': 'Toronto', 'Country': 'Canada', 'Population': 2800000, 'Area': 2731, 'Continent': 'North America'}, {'City': 'Pyeongchang', 'Country': 'South Korea', 'Population': 2581000, 'Area': 3194, 'Continent': 'Asia'}, {'City': 'Marrakesh', 'Country': 'Morocco', 'Population': 928850, 'Area': 200, 'Continent': 'Africa'}, {'City': 'Albuquerque', 'Country': 'USA', 'Population': 559277, 'Area': 491, 'Continent': 'North America'}, {'City': 'Los Cabos', 'Country': 'Mexico', 'Population': 287671, 'Area': 3750, 'Continent': 'North America'}, {'City': 'Greenville', 'Country': 'USA', 'Population': 84554, 'Area': 68, 'Continent': 'North America'}, {'City': 'Archipelago Sea', 'Country': 'Finland', 'Population': 60000, 'Area': 8300, 'Continent': 'Europe'}, {'City': 'Walla Walla Valley', 'Country': 'USA', 'Population': 32237, 'Area': 33, 'Continent': 'North America'}, {'City': 'Salina Island', 'Country': 'Italy', 'Population': 4000, 'Area': 27, 'Continent': 'Europe'}, {'City': 'Solta', 'Country': 'Croatia', 'Population': 1700, 'Area': 59, 'Continent': 'Europe'}, {'City': 'Iguazu Falls', 'Country': 'Argentina', 'Population': 0, 'Area': 672, 'Continent': 'South America'}]\n"
     ]
    }
   ],
   "source": [
    "for i, cities in enumerate(cities_dict_list):\n",
    "    for key, val in continents_dict.items():\n",
    "        if cities_dict_list[i]['Country'] == key:\n",
    "            cities_dict_list[i]['Continent'] = val\n",
    "            \n",
    "print(cities_dict_list)"
   ]
  },
  {
   "cell_type": "code",
   "execution_count": 47,
   "metadata": {},
   "outputs": [
    {
     "name": "stdout",
     "output_type": "stream",
     "text": [
      "Boston\n"
     ]
    }
   ],
   "source": [
    "city = cities_dict_list[0]['City']\n",
    "city = 'Boston'\n",
    "print(city)"
   ]
  },
  {
   "cell_type": "code",
   "execution_count": null,
   "metadata": {},
   "outputs": [],
   "source": []
  },
  {
   "cell_type": "code",
   "execution_count": null,
   "metadata": {},
   "outputs": [],
   "source": []
  }
 ],
 "metadata": {
  "kernelspec": {
   "display_name": "Python 3",
   "language": "python",
   "name": "python3"
  },
  "language_info": {
   "codemirror_mode": {
    "name": "ipython",
    "version": 3
   },
   "file_extension": ".py",
   "mimetype": "text/x-python",
   "name": "python",
   "nbconvert_exporter": "python",
   "pygments_lexer": "ipython3",
   "version": "3.7.1"
  }
 },
 "nbformat": 4,
 "nbformat_minor": 2
}
