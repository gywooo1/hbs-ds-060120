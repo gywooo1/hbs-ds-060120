{
 "cells": [
  {
   "cell_type": "markdown",
   "metadata": {
    "slideshow": {
     "slide_type": "slide"
    }
   },
   "source": [
    "![sql](img/sql-logo.jpg)\n",
    "\n",
    "# A beginner's guide to databases, SQL, & using them with `pandas`"
   ]
  },
  {
   "cell_type": "markdown",
   "metadata": {
    "slideshow": {
     "slide_type": "slide"
    }
   },
   "source": [
    "**Scenario:** You are a data analyst for the Homeland Security, trying to create reports on the active airports world wide. The data you need to access is in a SQL database. YOu need to be able to query for the data in a database!"
   ]
  },
  {
   "cell_type": "markdown",
   "metadata": {
    "slideshow": {
     "slide_type": "slide"
    }
   },
   "source": [
    "## Learning goals:\n",
    "- Goal 1: Summarize the use case for sql in the data science skill set\n",
    "- Goal 2: Define key sql terminology\n",
    "- Goal 3: Get information about DB schema and table structure\n",
    "- Goal 4: Use basic SQL commands:\n",
    "    - Construct SQL queries\n",
    "    - Use `JOIN` to merge tables along logical columns\n",
    "    - Grouping Data with SQL, inlcuding `HAVING`\n",
    "- Goal 5: Convert SQL to pandas"
   ]
  },
  {
   "cell_type": "markdown",
   "metadata": {
    "slideshow": {
     "slide_type": "slide"
    }
   },
   "source": [
    "## Goal 1: Summarize\n",
    "\n",
    "To date the data we've seen has looked like [this.](https://data.austintexas.gov/Health-and-Community-Services/Austin-Animal-Center-Intakes/wter-evkm)\n",
    "\n",
    "That is how we need data to look to run analysis and build models.<br>\n",
    "But it doesn't _live_ there in it's native state."
   ]
  },
  {
   "cell_type": "markdown",
   "metadata": {
    "slideshow": {
     "slide_type": "slide"
    }
   },
   "source": [
    "[Netflix has a great article](https://medium.com/netflix-techblog/notebook-innovation-591ee3221233) describing three different data roles at their company, their different needs, and their toolsets.\n",
    "\n",
    "![netflix](img/netflix-data-roles.jpeg)\n",
    "\n",
    "Examining that graphic, SQL shows up as one of the tools of the _Data Engineer_ "
   ]
  },
  {
   "cell_type": "markdown",
   "metadata": {
    "slideshow": {
     "slide_type": "slide"
    }
   },
   "source": [
    "Data Engineers provide the essential data architecture services that make data science possible.\n",
    "\n",
    "![hierarchy](img/ai-hierachy.png)\n",
    "\n",
    "[Source: Monica Rogati’s fantastic Medium post “The AI Hierarchy of Needs”\n",
    "](https://hackernoon.com/the-ai-hierarchy-of-needs-18f111fcc007)"
   ]
  },
  {
   "cell_type": "markdown",
   "metadata": {},
   "source": [
    "## What does it mean to **Engineer Data**?\n",
    "\n",
    "Let's start with a basic scenario:<br>\n",
    "You are HR. You have *no* current database. \n",
    "How would you set it up?\n",
    "\n",
    "Data needs considerations:\n",
    "- What you want to store\n",
    "- What \"views\" you anticipate wanting in the future\n",
    "\n",
    "Structure considerations:\n",
    "- Speed of retrieval\n",
    "- How much data you are accessing\n",
    "- How much you are storing"
   ]
  },
  {
   "cell_type": "markdown",
   "metadata": {
    "slideshow": {
     "slide_type": "slide"
    }
   },
   "source": [
    "![etl](img/etl.png)\n",
    "\n",
    "[img source: Jeff Hammerbacher’s slide from UC Berkeley CS 194 course ](https://bcourses.berkeley.edu/courses/1377158/pages/cs-194-16-introduction-to-data-science-fall-2015)"
   ]
  },
  {
   "cell_type": "markdown",
   "metadata": {
    "slideshow": {
     "slide_type": "slide"
    }
   },
   "source": [
    "### What is a Relational Database? \n",
    "\n",
    "![rdb](img/relational-dbms-model.png)\n",
    "[reference for image ](https://www.studytonight.com/dbms/database-model.php)"
   ]
  },
  {
   "cell_type": "markdown",
   "metadata": {
    "slideshow": {
     "slide_type": "slide"
    }
   },
   "source": [
    "### POPULAR RDBMS\n",
    "\n",
    "- SQLite\n",
    "- MySQL\n",
    "- PostgreSql\n",
    "- Oracle DB\n",
    "- SQL Server"
   ]
  },
  {
   "cell_type": "markdown",
   "metadata": {},
   "source": [
    "***\n",
    "### SQL Readings\n",
    "\n",
    "[History of SQL](https://www.businessnewsdaily.com/5804-what-is-sql.html)\n",
    "\n",
    "[The original SQL paper from the 1970s.](https://www.seas.upenn.edu/~zives/03f/cis550/codd.pdf)"
   ]
  },
  {
   "cell_type": "markdown",
   "metadata": {
    "slideshow": {
     "slide_type": "slide"
    }
   },
   "source": [
    "***\n",
    "## Goal 2: Database terminology\n",
    "\n",
    "### Relational Database Schema\n",
    "\n",
    "![schema](img/MySQL_Schema_Music_Example.png)\n",
    "\n",
    "[source of image](https://database.guide/what-is-a-database-schema/)"
   ]
  },
  {
   "cell_type": "markdown",
   "metadata": {
    "slideshow": {
     "slide_type": "slide"
    }
   },
   "source": [
    "***\n",
    "### SQLite\n",
    "\n",
    "<img src=\"img/SQLite-Python.jpg\" width=500>\n",
    "\n",
    "- C library (fast)\n",
    "- lightweight disk-based database\n",
    "- that doesn’t require a separate server process\n",
    "- nonstandard variant of the SQL query language\n",
    "- applications can use SQLite for internal data storage\n",
    "- use case: prototype an application using SQLite and then port the code to a larger database such as PostgreSQL or Oracle\n",
    "\n",
    "[sqlite documentation](https://docs.python.org/2/library/sqlite3.html)\n",
    "\n"
   ]
  },
  {
   "cell_type": "markdown",
   "metadata": {
    "slideshow": {
     "slide_type": "slide"
    }
   },
   "source": [
    "## But what about connecting to database servers?\n",
    "\n",
    "To connect to other database types there are many different libraries:\n",
    "- Oracle: [cx_Oracle](https://oracle.github.io/python-cx_Oracle/)\n",
    "- MySQL: [MySQL-python](https://github.com/farcepest/MySQLdb1)\n",
    "- PostgreSQL: [Psycopg2](http://initd.org/psycopg/docs/)\n",
    "- Microsoft SQL Server: [pymssql](http://www.pymssql.org/en/stable/)\n",
    "\n",
    "These all implement [PEP 249: DB API v2](https://www.python.org/dev/peps/pep-0249/)"
   ]
  },
  {
   "cell_type": "markdown",
   "metadata": {
    "slideshow": {
     "slide_type": "slide"
    }
   },
   "source": [
    "## Goal 3: Get going with sqlite!"
   ]
  },
  {
   "cell_type": "code",
   "execution_count": 1,
   "metadata": {
    "slideshow": {
     "slide_type": "fragment"
    }
   },
   "outputs": [],
   "source": [
    "import sqlite3"
   ]
  },
  {
   "cell_type": "markdown",
   "metadata": {
    "slideshow": {
     "slide_type": "slide"
    }
   },
   "source": [
    "#### Load a DB object with `connect` and `cursor`"
   ]
  },
  {
   "cell_type": "code",
   "execution_count": 2,
   "metadata": {},
   "outputs": [
    {
     "name": "stdout",
     "output_type": "stream",
     "text": [
      "flights.db\r\n"
     ]
    }
   ],
   "source": [
    "!ls data"
   ]
  },
  {
   "cell_type": "code",
   "execution_count": 3,
   "metadata": {},
   "outputs": [
    {
     "name": "stdout",
     "output_type": "stream",
     "text": [
      "SQLite format 3\u0000\u0004\u0000\u0001\u0001\u0000@  \u0000\u0000\u0000\t\u0000\u0000\u0014�\u0000\u0000\u0000\u0000\u0000\u0000\u0000\u0000\u0000\u0000\u0000\u0006\u0000\u0000\u0000\u0004\u0000\u0000\u0000\u0000\u0000\u0000\u0000\u0000\u0000\u0000\u0000\u0001\u0000\u0000\u0000\u0000\u0000\u0000\u0000\u0000\u0000\u0000\u0000\u0000\u0000\u0000\u0000\u0000\u0000\u0000\u0000\u0000\u0000\u0000\u0000\u0000\u0000\u0000\u0000\u0000\u0000\u0000\u0000\u0000\u0000\u0000\u0000\t\u0000-�\u0003\u0005\u0000\u0000\u0000\u0000\u0004\u0000\u0000\u0000\u0000\u0005s\u0001�\u0001o\u0000�\u0000\u0000\u0000\u0000\u0000\u0000\u0000\u0000\u0000\u0000\u0000\u0000\u0000\u0000\u0000\u0000�f\u0005\u0007\u0017\u0019\u0019\u0002�%tableroutesroutes\u0005qCREATE TABLE routes (\r\n",
      "[index] INTEGER,\r\n",
      "  [airline] TEXT,\r\n",
      "  [airline_id] TEXT,\r\n",
      "  [source] TEXT,\r\n",
      "  [source_id] TEXT,\r\n",
      "  [dest] TEXT,\r\n",
      "  [dest_id] TEXT,\r\n",
      "  [codeshare] TEXT,\r\n",
      "  [stops] TEXT,\r\n"
     ]
    }
   ],
   "source": [
    "!head data/flights.db"
   ]
  },
  {
   "cell_type": "code",
   "execution_count": 4,
   "metadata": {
    "slideshow": {
     "slide_type": "fragment"
    }
   },
   "outputs": [],
   "source": [
    "con = sqlite3.connect('data/flights.db')\n",
    "cursor = con.cursor()"
   ]
  },
  {
   "cell_type": "markdown",
   "metadata": {
    "slideshow": {
     "slide_type": "slide"
    }
   },
   "source": [
    "#### Use sqlite_master to find all the tables in the schema\n",
    "Get the schema of a database from a db in sqlite"
   ]
  },
  {
   "cell_type": "code",
   "execution_count": 5,
   "metadata": {},
   "outputs": [
    {
     "name": "stdout",
     "output_type": "stream",
     "text": [
      "[('airports',), ('airlines',), ('routes',)]\n"
     ]
    }
   ],
   "source": [
    "cursor.execute(\"SELECT name FROM sqlite_master WHERE type='table';\")\n",
    "print(cursor.fetchall())"
   ]
  },
  {
   "cell_type": "code",
   "execution_count": 6,
   "metadata": {},
   "outputs": [
    {
     "data": {
      "text/plain": [
       "(('name', None, None, None, None, None, None),)"
      ]
     },
     "execution_count": 6,
     "metadata": {},
     "output_type": "execute_result"
    }
   ],
   "source": [
    "cursor.description"
   ]
  },
  {
   "cell_type": "code",
   "execution_count": 7,
   "metadata": {},
   "outputs": [
    {
     "name": "stdout",
     "output_type": "stream",
     "text": [
      "[('airports', 'table'), ('ix_airports_index', 'index'), ('airlines', 'table'), ('ix_airlines_index', 'index'), ('routes', 'table'), ('ix_routes_index', 'index')]\n"
     ]
    }
   ],
   "source": [
    "cursor.execute(\"SELECT name, type FROM sqlite_master;\")\n",
    "print(cursor.fetchall())"
   ]
  },
  {
   "cell_type": "code",
   "execution_count": 8,
   "metadata": {
    "scrolled": true
   },
   "outputs": [
    {
     "name": "stdout",
     "output_type": "stream",
     "text": [
      "('table', 'airports', 2)\n",
      "('index', 'airports', 3)\n",
      "('table', 'airlines', 945)\n",
      "('index', 'airlines', 946)\n",
      "('table', 'routes', 1393)\n",
      "('index', 'routes', 1394)\n"
     ]
    }
   ],
   "source": [
    "cursor.execute(\"SELECT type, tbl_name, rootpage FROM sqlite_master;\")\n",
    "results = cursor.fetchall()\n",
    "for res in results:\n",
    "    print(res)"
   ]
  },
  {
   "cell_type": "code",
   "execution_count": 9,
   "metadata": {},
   "outputs": [
    {
     "data": {
      "text/plain": [
       "(('type', None, None, None, None, None, None),\n",
       " ('tbl_name', None, None, None, None, None, None),\n",
       " ('rootpage', None, None, None, None, None, None))"
      ]
     },
     "execution_count": 9,
     "metadata": {},
     "output_type": "execute_result"
    }
   ],
   "source": [
    "cursor.description"
   ]
  },
  {
   "cell_type": "markdown",
   "metadata": {
    "slideshow": {
     "slide_type": "slide"
    }
   },
   "source": [
    "#### Get information about one table\n",
    "\n",
    "**A note about** `execute`<br>\n",
    "Each time you use it, you reset the value of cursor"
   ]
  },
  {
   "cell_type": "code",
   "execution_count": 10,
   "metadata": {},
   "outputs": [
    {
     "data": {
      "text/plain": [
       "(0,\n",
       " '1',\n",
       " 'Goroka',\n",
       " 'Goroka',\n",
       " 'Papua New Guinea',\n",
       " 'GKA',\n",
       " 'AYGA',\n",
       " '-6.081689',\n",
       " '145.391881',\n",
       " '5282',\n",
       " '10',\n",
       " 'U',\n",
       " 'Pacific/Port_Moresby')"
      ]
     },
     "execution_count": 10,
     "metadata": {},
     "output_type": "execute_result"
    }
   ],
   "source": [
    "cursor.execute(\"SELECT * FROM airports as a\").fetchone()"
   ]
  },
  {
   "cell_type": "code",
   "execution_count": 11,
   "metadata": {},
   "outputs": [
    {
     "data": {
      "text/plain": [
       "(1,\n",
       " '2',\n",
       " 'Madang',\n",
       " 'Madang',\n",
       " 'Papua New Guinea',\n",
       " 'MAG',\n",
       " 'AYMD',\n",
       " '-5.207083',\n",
       " '145.7887',\n",
       " '20',\n",
       " '10',\n",
       " 'U',\n",
       " 'Pacific/Port_Moresby')"
      ]
     },
     "execution_count": 11,
     "metadata": {},
     "output_type": "execute_result"
    }
   ],
   "source": [
    "cursor.fetchone()"
   ]
  },
  {
   "cell_type": "code",
   "execution_count": 12,
   "metadata": {},
   "outputs": [
    {
     "data": {
      "text/plain": [
       "[(2,\n",
       "  '3',\n",
       "  'Mount Hagen',\n",
       "  'Mount Hagen',\n",
       "  'Papua New Guinea',\n",
       "  'HGU',\n",
       "  'AYMH',\n",
       "  '-5.826789',\n",
       "  '144.295861',\n",
       "  '5388',\n",
       "  '10',\n",
       "  'U',\n",
       "  'Pacific/Port_Moresby'),\n",
       " (3,\n",
       "  '4',\n",
       "  'Nadzab',\n",
       "  'Nadzab',\n",
       "  'Papua New Guinea',\n",
       "  'LAE',\n",
       "  'AYNZ',\n",
       "  '-6.569828',\n",
       "  '146.726242',\n",
       "  '239',\n",
       "  '10',\n",
       "  'U',\n",
       "  'Pacific/Port_Moresby'),\n",
       " (4,\n",
       "  '5',\n",
       "  'Port Moresby Jacksons Intl',\n",
       "  'Port Moresby',\n",
       "  'Papua New Guinea',\n",
       "  'POM',\n",
       "  'AYPY',\n",
       "  '-9.443383',\n",
       "  '147.22005',\n",
       "  '146',\n",
       "  '10',\n",
       "  'U',\n",
       "  'Pacific/Port_Moresby'),\n",
       " (5,\n",
       "  '6',\n",
       "  'Wewak Intl',\n",
       "  'Wewak',\n",
       "  'Papua New Guinea',\n",
       "  'WWK',\n",
       "  'AYWK',\n",
       "  '-3.583828',\n",
       "  '143.669186',\n",
       "  '19',\n",
       "  '10',\n",
       "  'U',\n",
       "  'Pacific/Port_Moresby')]"
      ]
     },
     "execution_count": 12,
     "metadata": {},
     "output_type": "execute_result"
    }
   ],
   "source": [
    "cursor.fetchmany(4)"
   ]
  },
  {
   "cell_type": "markdown",
   "metadata": {
    "slideshow": {
     "slide_type": "slide"
    }
   },
   "source": [
    "#### Use description"
   ]
  },
  {
   "cell_type": "code",
   "execution_count": 13,
   "metadata": {
    "slideshow": {
     "slide_type": "fragment"
    }
   },
   "outputs": [
    {
     "data": {
      "text/plain": [
       "(('index', None, None, None, None, None, None),\n",
       " ('id', None, None, None, None, None, None),\n",
       " ('name', None, None, None, None, None, None),\n",
       " ('city', None, None, None, None, None, None),\n",
       " ('country', None, None, None, None, None, None),\n",
       " ('code', None, None, None, None, None, None),\n",
       " ('icao', None, None, None, None, None, None),\n",
       " ('latitude', None, None, None, None, None, None),\n",
       " ('longitude', None, None, None, None, None, None),\n",
       " ('altitude', None, None, None, None, None, None),\n",
       " ('offset', None, None, None, None, None, None),\n",
       " ('dst', None, None, None, None, None, None),\n",
       " ('timezone', None, None, None, None, None, None))"
      ]
     },
     "execution_count": 13,
     "metadata": {},
     "output_type": "execute_result"
    }
   ],
   "source": [
    "cursor.description"
   ]
  },
  {
   "cell_type": "markdown",
   "metadata": {
    "slideshow": {
     "slide_type": "slide"
    }
   },
   "source": [
    "#### Or use `Pragma`\n",
    "`Pragma` tool [link here](https://www.sqlite.org/pragma.html#pragma_table_info)\n",
    "\n",
    "**output**<br>\n",
    "`(column id, column name, data type, whether or not the column can be NULL, and the default value for the column)`"
   ]
  },
  {
   "cell_type": "code",
   "execution_count": 14,
   "metadata": {},
   "outputs": [
    {
     "name": "stdout",
     "output_type": "stream",
     "text": [
      "1\n",
      "2\n"
     ]
    }
   ],
   "source": [
    "z = (1,2)\n",
    "print(*z, sep ='\\n')"
   ]
  },
  {
   "cell_type": "code",
   "execution_count": 15,
   "metadata": {
    "slideshow": {
     "slide_type": "slide"
    }
   },
   "outputs": [
    {
     "name": "stdout",
     "output_type": "stream",
     "text": [
      "(0, 'index', 'INTEGER', 0, None, 0)\n",
      "(1, 'id', 'TEXT', 0, None, 0)\n",
      "(2, 'name', 'TEXT', 0, None, 0)\n",
      "(3, 'city', 'TEXT', 0, None, 0)\n",
      "(4, 'country', 'TEXT', 0, None, 0)\n",
      "(5, 'code', 'TEXT', 0, None, 0)\n",
      "(6, 'icao', 'TEXT', 0, None, 0)\n",
      "(7, 'latitude', 'TEXT', 0, None, 0)\n",
      "(8, 'longitude', 'TEXT', 0, None, 0)\n",
      "(9, 'altitude', 'TEXT', 0, None, 0)\n",
      "(10, 'offset', 'TEXT', 0, None, 0)\n",
      "(11, 'dst', 'TEXT', 0, None, 0)\n",
      "(12, 'timezone', 'TEXT', 0, None, 0)\n"
     ]
    }
   ],
   "source": [
    "cursor.execute(\"PRAGMA table_info(airports)\")\n",
    "info = cursor.fetchall()\n",
    "print(*info, sep = \"\\n\") "
   ]
  },
  {
   "cell_type": "markdown",
   "metadata": {
    "slideshow": {
     "slide_type": "slide"
    }
   },
   "source": [
    "#### Making fetch happen\n",
    "\n",
    "`.fetchall()` is how you get the query results out of the object.\n",
    "\n",
    "You can also `.fetchone()` or `.fetchmany()`"
   ]
  },
  {
   "cell_type": "markdown",
   "metadata": {
    "slideshow": {
     "slide_type": "slide"
    }
   },
   "source": [
    "**Task:** Get the descriptive data for airlines and routes tables"
   ]
  },
  {
   "cell_type": "code",
   "execution_count": 16,
   "metadata": {},
   "outputs": [
    {
     "name": "stdout",
     "output_type": "stream",
     "text": [
      "(0, 'index', 'INTEGER', 0, None, 0)\n",
      "(1, 'id', 'TEXT', 0, None, 0)\n",
      "(2, 'name', 'TEXT', 0, None, 0)\n",
      "(3, 'alias', 'TEXT', 0, None, 0)\n",
      "(4, 'iata', 'TEXT', 0, None, 0)\n",
      "(5, 'icao', 'TEXT', 0, None, 0)\n",
      "(6, 'callsign', 'TEXT', 0, None, 0)\n",
      "(7, 'country', 'TEXT', 0, None, 0)\n",
      "(8, 'active', 'TEXT', 0, None, 0)\n"
     ]
    }
   ],
   "source": [
    "cursor.execute(\"PRAGMA table_info(airlines)\")\n",
    "info = cursor.fetchall()\n",
    "print(*info, sep = \"\\n\")"
   ]
  },
  {
   "cell_type": "code",
   "execution_count": 17,
   "metadata": {},
   "outputs": [
    {
     "name": "stdout",
     "output_type": "stream",
     "text": [
      "(0, 'index', 'INTEGER', 0, None, 0)\n",
      "(1, 'airline', 'TEXT', 0, None, 0)\n",
      "(2, 'airline_id', 'TEXT', 0, None, 0)\n",
      "(3, 'source', 'TEXT', 0, None, 0)\n",
      "(4, 'source_id', 'TEXT', 0, None, 0)\n",
      "(5, 'dest', 'TEXT', 0, None, 0)\n",
      "(6, 'dest_id', 'TEXT', 0, None, 0)\n",
      "(7, 'codeshare', 'TEXT', 0, None, 0)\n",
      "(8, 'stops', 'TEXT', 0, None, 0)\n",
      "(9, 'equipment', 'TEXT', 0, None, 0)\n"
     ]
    }
   ],
   "source": [
    "cursor.execute(\"PRAGMA table_info(routes)\")\n",
    "info = cursor.fetchall()\n",
    "print(*info, sep = \"\\n\")"
   ]
  },
  {
   "cell_type": "markdown",
   "metadata": {
    "slideshow": {
     "slide_type": "slide"
    }
   },
   "source": [
    "***\n",
    "## Goal 4: Use basic SQL commands "
   ]
  },
  {
   "cell_type": "markdown",
   "metadata": {
    "slideshow": {
     "slide_type": "slide"
    }
   },
   "source": [
    "### The Structure of a SQL Query"
   ]
  },
  {
   "cell_type": "markdown",
   "metadata": {
    "slideshow": {
     "slide_type": "slide"
    }
   },
   "source": [
    "<img src='img/sql_statement.jpg'/>"
   ]
  },
  {
   "cell_type": "markdown",
   "metadata": {
    "slideshow": {
     "slide_type": "slide"
    }
   },
   "source": [
    "### Constructing SQL queries"
   ]
  },
  {
   "cell_type": "markdown",
   "metadata": {
    "slideshow": {
     "slide_type": "fragment"
    }
   },
   "source": [
    "**`SELECT`**:  The columns you want\n",
    "  - options: `DISTINCT`, using `AS` to rename columns, single number aggregates"
   ]
  },
  {
   "cell_type": "markdown",
   "metadata": {
    "slideshow": {
     "slide_type": "fragment"
    }
   },
   "source": [
    "**`FROM`:** the source tables\n",
    "  - options: also uses aliasing with `AS`; joining with `[LEFT|INNER|RIGHT|FULL] JOIN ___ [ON|USING]`"
   ]
  },
  {
   "cell_type": "markdown",
   "metadata": {
    "slideshow": {
     "slide_type": "fragment"
    }
   },
   "source": [
    "**`WHERE`**: your filters\n",
    "  - options: comparators like `=` & `>=`; `BETWEEN`, `IN`, `LIKE` (with wildcards `%`); booleans like `AND`, `OR`, `NOT`"
   ]
  },
  {
   "cell_type": "markdown",
   "metadata": {
    "slideshow": {
     "slide_type": "fragment"
    }
   },
   "source": [
    "**`ORDER BY`**: sorting\n",
    "  - options: `ASC` (default) and `DESC`"
   ]
  },
  {
   "cell_type": "markdown",
   "metadata": {
    "slideshow": {
     "slide_type": "fragment"
    }
   },
   "source": [
    "**`LIMIT`**:  # of rows to return (pair with `OFFSET`)"
   ]
  },
  {
   "cell_type": "markdown",
   "metadata": {
    "slideshow": {
     "slide_type": "slide"
    }
   },
   "source": [
    "**Task**: \n",
    "- Select only active airlines in the UK from the airlines table\n",
    "- Select the unique list of countries with airports"
   ]
  },
  {
   "cell_type": "code",
   "execution_count": 19,
   "metadata": {},
   "outputs": [
    {
     "data": {
      "text/plain": [
       "[('AD Aviation',),\n",
       " ('Air Cudlua',),\n",
       " ('Air Foyle',),\n",
       " ('Air Southwest',),\n",
       " ('Air Wales',),\n",
       " ('All Europe',),\n",
       " ('Astraeus',),\n",
       " ('Aurigny Air Services',),\n",
       " ('BA CityFlyer',),\n",
       " ('BBN-Airways',),\n",
       " ('bmi',),\n",
       " ('bmibaby',),\n",
       " ('British Airways',),\n",
       " ('British International Helicopters',),\n",
       " ('British Mediterranean Airways',),\n",
       " ('British Midland Regional',),\n",
       " ('CB Airways UK ( Interliging Flights )',),\n",
       " ('Crest Aviation',),\n",
       " ('Eastern Airways',),\n",
       " ('easyJet',),\n",
       " ('Excel Airways',),\n",
       " ('Excel Charter',),\n",
       " ('First Choice Airways',),\n",
       " ('Flightline',),\n",
       " ('Flybe',),\n",
       " ('Flyglobespan',),\n",
       " ('GB Airways',),\n",
       " ('Highland Airways',),\n",
       " ('Jc royal.britannica',),\n",
       " ('Jet2.com',),\n",
       " ('Kinloss Flying Training Unit',),\n",
       " ('Monarch Airlines',),\n",
       " ('MyTravel Airways',),\n",
       " ('Norfolk County Flight College',),\n",
       " ('Rainbow Air Euro',),\n",
       " ('Royal European Airlines',),\n",
       " ('ScotAirways',),\n",
       " ('Thomas Cook Airlines',),\n",
       " ('Thomsonfly',),\n",
       " ('Virgin Atlantic Airways',)]"
      ]
     },
     "execution_count": 19,
     "metadata": {},
     "output_type": "execute_result"
    }
   ],
   "source": [
    "cursor.execute(\"\"\"SELECT name FROM airlines\n",
    "WHERE active='Y' AND country = 'United Kingdom'\n",
    "ORDER BY lower(name)\n",
    "\"\"\")\n",
    "cursor.fetchall()"
   ]
  },
  {
   "cell_type": "code",
   "execution_count": 20,
   "metadata": {},
   "outputs": [
    {
     "data": {
      "text/plain": [
       "[('Afghanistan',),\n",
       " ('Albania',),\n",
       " ('Algeria',),\n",
       " ('American Samoa',),\n",
       " ('Angola',),\n",
       " ('Anguilla',),\n",
       " ('Antarctica',),\n",
       " ('Antigua and Barbuda',),\n",
       " ('Argentina',),\n",
       " ('Armenia',),\n",
       " ('Aruba',),\n",
       " ('Australia',),\n",
       " ('Austria',),\n",
       " ('Azerbaijan',),\n",
       " ('Bahamas',),\n",
       " ('Bahrain',),\n",
       " ('Bangladesh',),\n",
       " ('Barbados',),\n",
       " ('Belarus',),\n",
       " ('Belgium',),\n",
       " ('Belize',),\n",
       " ('Benin',),\n",
       " ('Bermuda',),\n",
       " ('Bhutan',),\n",
       " ('Bolivia',),\n",
       " ('Bosnia and Herzegovina',),\n",
       " ('Botswana',),\n",
       " ('Brazil',),\n",
       " ('British Indian Ocean Territory',),\n",
       " ('British Virgin Islands',),\n",
       " ('Brunei',),\n",
       " ('Bulgaria',),\n",
       " ('Burkina Faso',),\n",
       " ('Burma',),\n",
       " ('Burundi',),\n",
       " ('Cambodia',),\n",
       " ('Cameroon',),\n",
       " ('Canada',),\n",
       " ('Cape Verde',),\n",
       " ('Cayman Islands',),\n",
       " ('Central African Republic',),\n",
       " ('Chad',),\n",
       " ('Chile',),\n",
       " ('China',),\n",
       " ('Christmas Island',),\n",
       " ('Cocos (Keeling) Islands',),\n",
       " ('Colombia',),\n",
       " ('Comoros',),\n",
       " ('Congo (Brazzaville)',),\n",
       " ('Congo (Kinshasa)',),\n",
       " ('Cook Islands',),\n",
       " ('Costa Rica',),\n",
       " (\"Cote d'Ivoire\",),\n",
       " ('Croatia',),\n",
       " ('Cuba',),\n",
       " ('Cyprus',),\n",
       " ('Czech Republic',),\n",
       " ('Denmark',),\n",
       " ('Djibouti',),\n",
       " ('Dominica',),\n",
       " ('Dominican Republic',),\n",
       " ('East Timor',),\n",
       " ('Ecuador',),\n",
       " ('Egypt',),\n",
       " ('El Salvador',),\n",
       " ('Equatorial Guinea',),\n",
       " ('Eritrea',),\n",
       " ('Estonia',),\n",
       " ('Ethiopia',),\n",
       " ('Falkland Islands',),\n",
       " ('Faroe Islands',),\n",
       " ('Fiji',),\n",
       " ('Finland',),\n",
       " ('France',),\n",
       " ('French Guiana',),\n",
       " ('French Polynesia',),\n",
       " ('Gabon',),\n",
       " ('Gambia',),\n",
       " ('Georgia',),\n",
       " ('Germany',),\n",
       " ('Ghana',),\n",
       " ('Gibraltar',),\n",
       " ('Greece',),\n",
       " ('Greenland',),\n",
       " ('Grenada',),\n",
       " ('Guadeloupe',),\n",
       " ('Guam',),\n",
       " ('Guatemala',),\n",
       " ('Guernsey',),\n",
       " ('Guinea',),\n",
       " ('Guinea-Bissau',),\n",
       " ('Guyana',),\n",
       " ('Haiti',),\n",
       " ('Honduras',),\n",
       " ('Hong Kong',),\n",
       " ('Hungary',),\n",
       " ('Iceland',),\n",
       " ('India',),\n",
       " ('Indonesia',),\n",
       " ('Iran',),\n",
       " ('Iraq',),\n",
       " ('Ireland',),\n",
       " ('Isle of Man',),\n",
       " ('Israel',),\n",
       " ('Italy',),\n",
       " ('Jamaica',),\n",
       " ('Japan',),\n",
       " ('Jersey',),\n",
       " ('Johnston Atoll',),\n",
       " ('Jordan',),\n",
       " ('Kazakhstan',),\n",
       " ('Kenya',),\n",
       " ('Kiribati',),\n",
       " ('Korea',),\n",
       " ('Kuwait',),\n",
       " ('Kyrgyzstan',),\n",
       " ('Laos',),\n",
       " ('Latvia',),\n",
       " ('Lebanon',),\n",
       " ('Lesotho',),\n",
       " ('Liberia',),\n",
       " ('Libya',),\n",
       " ('Lithuania',),\n",
       " ('Luxembourg',),\n",
       " ('Macau',),\n",
       " ('Macedonia',),\n",
       " ('Madagascar',),\n",
       " ('Malawi',),\n",
       " ('Malaysia',),\n",
       " ('Maldives',),\n",
       " ('Mali',),\n",
       " ('Malta',),\n",
       " ('Marshall Islands',),\n",
       " ('Martinique',),\n",
       " ('Mauritania',),\n",
       " ('Mauritius',),\n",
       " ('Mayotte',),\n",
       " ('Mexico',),\n",
       " ('Micronesia',),\n",
       " ('Midway Islands',),\n",
       " ('Moldova',),\n",
       " ('Monaco',),\n",
       " ('Mongolia',),\n",
       " ('Montenegro',),\n",
       " ('Montserrat',),\n",
       " ('Morocco',),\n",
       " ('Mozambique',),\n",
       " ('Myanmar',),\n",
       " ('Namibia',),\n",
       " ('Nauru',),\n",
       " ('Nepal',),\n",
       " ('Netherlands',),\n",
       " ('Netherlands Antilles',),\n",
       " ('New Caledonia',),\n",
       " ('New Zealand',),\n",
       " ('Nicaragua',),\n",
       " ('Niger',),\n",
       " ('Nigeria',),\n",
       " ('Niue',),\n",
       " ('Norfolk Island',),\n",
       " ('North Korea',),\n",
       " ('Northern Mariana Islands',),\n",
       " ('Norway',),\n",
       " ('Oman',),\n",
       " ('Pakistan',),\n",
       " ('Palau',),\n",
       " ('Palestine',),\n",
       " ('Panama',),\n",
       " ('Papua New Guinea',),\n",
       " ('Paraguay',),\n",
       " ('Peru',),\n",
       " ('Philippines',),\n",
       " ('Poland',),\n",
       " ('Portugal',),\n",
       " ('Puerto Rico',),\n",
       " ('Qatar',),\n",
       " ('Reunion',),\n",
       " ('Romania',),\n",
       " ('Russia',),\n",
       " ('Rwanda',),\n",
       " ('Saint Helena',),\n",
       " ('Saint Kitts and Nevis',),\n",
       " ('Saint Lucia',),\n",
       " ('Saint Pierre and Miquelon',),\n",
       " ('Saint Vincent and the Grenadines',),\n",
       " ('Samoa',),\n",
       " ('Sao Tome and Principe',),\n",
       " ('Saudi Arabia',),\n",
       " ('Senegal',),\n",
       " ('Serbia',),\n",
       " ('Seychelles',),\n",
       " ('Sierra Leone',),\n",
       " ('Singapore',),\n",
       " ('Slovakia',),\n",
       " ('Slovenia',),\n",
       " ('Solomon Islands',),\n",
       " ('Somalia',),\n",
       " ('South Africa',),\n",
       " ('South Georgia and the Islands',),\n",
       " ('South Korea',),\n",
       " ('South Sudan',),\n",
       " ('Spain',),\n",
       " ('Sri Lanka',),\n",
       " ('Sudan',),\n",
       " ('Suriname',),\n",
       " ('Svalbard',),\n",
       " ('Swaziland',),\n",
       " ('Sweden',),\n",
       " ('Switzerland',),\n",
       " ('Syria',),\n",
       " ('Taiwan',),\n",
       " ('Tajikistan',),\n",
       " ('Tanzania',),\n",
       " ('Thailand',),\n",
       " ('Togo',),\n",
       " ('Tonga',),\n",
       " ('Trinidad and Tobago',),\n",
       " ('Tunisia',),\n",
       " ('Turkey',),\n",
       " ('Turkmenistan',),\n",
       " ('Turks and Caicos Islands',),\n",
       " ('Tuvalu',),\n",
       " ('Uganda',),\n",
       " ('Ukraine',),\n",
       " ('United Arab Emirates',),\n",
       " ('United Kingdom',),\n",
       " ('United States',),\n",
       " ('Uruguay',),\n",
       " ('Uzbekistan',),\n",
       " ('Vanuatu',),\n",
       " ('Venezuela',),\n",
       " ('Vietnam',),\n",
       " ('Virgin Islands',),\n",
       " ('Wake Island',),\n",
       " ('Wallis and Futuna',),\n",
       " ('West Bank',),\n",
       " ('Western Sahara',),\n",
       " ('Yemen',),\n",
       " ('Zambia',),\n",
       " ('Zimbabwe',)]"
      ]
     },
     "execution_count": 20,
     "metadata": {},
     "output_type": "execute_result"
    }
   ],
   "source": [
    "cursor.execute('''SELECT country FROM airports\n",
    "GROUP BY country\n",
    "''')\n",
    "cursor.fetchall()"
   ]
  },
  {
   "cell_type": "code",
   "execution_count": 34,
   "metadata": {},
   "outputs": [
    {
     "name": "stdout",
     "output_type": "stream",
     "text": [
      "('Afghanistan',)\n",
      "('Albania',)\n",
      "('Algeria',)\n",
      "('American Samoa',)\n",
      "('Angola',)\n",
      "('Anguilla',)\n",
      "('Antarctica',)\n",
      "('Antigua and Barbuda',)\n",
      "('Argentina',)\n",
      "('Armenia',)\n",
      "('Aruba',)\n",
      "('Australia',)\n",
      "('Austria',)\n",
      "('Azerbaijan',)\n",
      "('Bahamas',)\n",
      "('Bahrain',)\n",
      "('Bangladesh',)\n",
      "('Barbados',)\n",
      "('Belarus',)\n",
      "('Belgium',)\n",
      "('Belize',)\n",
      "('Benin',)\n",
      "('Bermuda',)\n",
      "('Bhutan',)\n",
      "('Bolivia',)\n",
      "('Bosnia and Herzegovina',)\n",
      "('Botswana',)\n",
      "('Brazil',)\n",
      "('British Indian Ocean Territory',)\n",
      "('British Virgin Islands',)\n",
      "('Brunei',)\n",
      "('Bulgaria',)\n",
      "('Burkina Faso',)\n",
      "('Burma',)\n",
      "('Burundi',)\n",
      "('Cambodia',)\n",
      "('Cameroon',)\n",
      "('Canada',)\n",
      "('Cape Verde',)\n",
      "('Cayman Islands',)\n",
      "('Central African Republic',)\n",
      "('Chad',)\n",
      "('Chile',)\n",
      "('China',)\n",
      "('Christmas Island',)\n",
      "('Cocos (Keeling) Islands',)\n",
      "('Colombia',)\n",
      "('Comoros',)\n",
      "('Congo (Brazzaville)',)\n",
      "('Congo (Kinshasa)',)\n",
      "('Cook Islands',)\n",
      "('Costa Rica',)\n",
      "(\"Cote d'Ivoire\",)\n",
      "('Croatia',)\n",
      "('Cuba',)\n",
      "('Cyprus',)\n",
      "('Czech Republic',)\n",
      "('Denmark',)\n",
      "('Djibouti',)\n",
      "('Dominica',)\n",
      "('Dominican Republic',)\n",
      "('East Timor',)\n",
      "('Ecuador',)\n",
      "('Egypt',)\n",
      "('El Salvador',)\n",
      "('Equatorial Guinea',)\n",
      "('Eritrea',)\n",
      "('Estonia',)\n",
      "('Ethiopia',)\n",
      "('Falkland Islands',)\n",
      "('Faroe Islands',)\n",
      "('Fiji',)\n",
      "('Finland',)\n",
      "('France',)\n",
      "('French Guiana',)\n",
      "('French Polynesia',)\n",
      "('Gabon',)\n",
      "('Gambia',)\n",
      "('Georgia',)\n",
      "('Germany',)\n",
      "('Ghana',)\n",
      "('Gibraltar',)\n",
      "('Greece',)\n",
      "('Greenland',)\n",
      "('Grenada',)\n",
      "('Guadeloupe',)\n",
      "('Guam',)\n",
      "('Guatemala',)\n",
      "('Guernsey',)\n",
      "('Guinea',)\n",
      "('Guinea-Bissau',)\n",
      "('Guyana',)\n",
      "('Haiti',)\n",
      "('Honduras',)\n",
      "('Hong Kong',)\n",
      "('Hungary',)\n",
      "('Iceland',)\n",
      "('India',)\n",
      "('Indonesia',)\n",
      "('Iran',)\n",
      "('Iraq',)\n",
      "('Ireland',)\n",
      "('Isle of Man',)\n",
      "('Israel',)\n",
      "('Italy',)\n",
      "('Jamaica',)\n",
      "('Japan',)\n",
      "('Jersey',)\n",
      "('Johnston Atoll',)\n",
      "('Jordan',)\n",
      "('Kazakhstan',)\n",
      "('Kenya',)\n",
      "('Kiribati',)\n",
      "('Korea',)\n",
      "('Kuwait',)\n",
      "('Kyrgyzstan',)\n",
      "('Laos',)\n",
      "('Latvia',)\n",
      "('Lebanon',)\n",
      "('Lesotho',)\n",
      "('Liberia',)\n",
      "('Libya',)\n",
      "('Lithuania',)\n",
      "('Luxembourg',)\n",
      "('Macau',)\n",
      "('Macedonia',)\n",
      "('Madagascar',)\n",
      "('Malawi',)\n",
      "('Malaysia',)\n",
      "('Maldives',)\n",
      "('Mali',)\n",
      "('Malta',)\n",
      "('Marshall Islands',)\n",
      "('Martinique',)\n",
      "('Mauritania',)\n",
      "('Mauritius',)\n",
      "('Mayotte',)\n",
      "('Mexico',)\n",
      "('Micronesia',)\n",
      "('Midway Islands',)\n",
      "('Moldova',)\n",
      "('Monaco',)\n",
      "('Mongolia',)\n",
      "('Montenegro',)\n",
      "('Montserrat',)\n",
      "('Morocco',)\n",
      "('Mozambique',)\n",
      "('Myanmar',)\n",
      "('Namibia',)\n",
      "('Nauru',)\n",
      "('Nepal',)\n",
      "('Netherlands',)\n",
      "('Netherlands Antilles',)\n",
      "('New Caledonia',)\n",
      "('New Zealand',)\n",
      "('Nicaragua',)\n",
      "('Niger',)\n",
      "('Nigeria',)\n",
      "('Niue',)\n",
      "('Norfolk Island',)\n",
      "('North Korea',)\n",
      "('Northern Mariana Islands',)\n",
      "('Norway',)\n",
      "('Oman',)\n",
      "('Pakistan',)\n",
      "('Palau',)\n",
      "('Palestine',)\n",
      "('Panama',)\n",
      "('Papua New Guinea',)\n",
      "('Paraguay',)\n",
      "('Peru',)\n",
      "('Philippines',)\n",
      "('Poland',)\n",
      "('Portugal',)\n",
      "('Puerto Rico',)\n",
      "('Qatar',)\n",
      "('Reunion',)\n",
      "('Romania',)\n",
      "('Russia',)\n",
      "('Rwanda',)\n",
      "('Saint Helena',)\n",
      "('Saint Kitts and Nevis',)\n",
      "('Saint Lucia',)\n",
      "('Saint Pierre and Miquelon',)\n",
      "('Saint Vincent and the Grenadines',)\n",
      "('Samoa',)\n",
      "('Sao Tome and Principe',)\n",
      "('Saudi Arabia',)\n",
      "('Senegal',)\n",
      "('Serbia',)\n",
      "('Seychelles',)\n",
      "('Sierra Leone',)\n",
      "('Singapore',)\n",
      "('Slovakia',)\n",
      "('Slovenia',)\n",
      "('Solomon Islands',)\n",
      "('Somalia',)\n",
      "('South Africa',)\n",
      "('South Georgia and the Islands',)\n",
      "('South Korea',)\n",
      "('South Sudan',)\n",
      "('Spain',)\n",
      "('Sri Lanka',)\n",
      "('Sudan',)\n",
      "('Suriname',)\n",
      "('Svalbard',)\n",
      "('Swaziland',)\n",
      "('Sweden',)\n",
      "('Switzerland',)\n",
      "('Syria',)\n",
      "('Taiwan',)\n",
      "('Tajikistan',)\n",
      "('Tanzania',)\n",
      "('Thailand',)\n",
      "('Togo',)\n",
      "('Tonga',)\n",
      "('Trinidad and Tobago',)\n",
      "('Tunisia',)\n",
      "('Turkey',)\n",
      "('Turkmenistan',)\n",
      "('Turks and Caicos Islands',)\n",
      "('Tuvalu',)\n",
      "('Uganda',)\n",
      "('Ukraine',)\n",
      "('United Arab Emirates',)\n",
      "('United Kingdom',)\n",
      "('United States',)\n",
      "('Uruguay',)\n",
      "('Uzbekistan',)\n",
      "('Vanuatu',)\n",
      "('Venezuela',)\n",
      "('Vietnam',)\n",
      "('Virgin Islands',)\n",
      "('Wake Island',)\n",
      "('Wallis and Futuna',)\n",
      "('West Bank',)\n",
      "('Western Sahara',)\n",
      "('Yemen',)\n",
      "('Zambia',)\n",
      "('Zimbabwe',)\n"
     ]
    }
   ],
   "source": [
    "cursor.execute('''\n",
    "SELECT DISTINCT country\n",
    "FROM airports\n",
    "ORDER BY 1\n",
    "''')\n",
    "print(*cursor.fetchall(), sep = '\\n')"
   ]
  },
  {
   "cell_type": "markdown",
   "metadata": {
    "slideshow": {
     "slide_type": "slide"
    }
   },
   "source": [
    "### SQL Joins"
   ]
  },
  {
   "cell_type": "markdown",
   "metadata": {
    "slideshow": {
     "slide_type": "fragment"
    }
   },
   "source": [
    "SQL joins can be used to both **add** data to a table and **remove** data from a table. "
   ]
  },
  {
   "cell_type": "markdown",
   "metadata": {
    "slideshow": {
     "slide_type": "fragment"
    }
   },
   "source": [
    "<img src=\"img/venn.png\" width=550>"
   ]
  },
  {
   "cell_type": "markdown",
   "metadata": {
    "slideshow": {
     "slide_type": "slide"
    }
   },
   "source": [
    "**Task** Write a query that will join the latitude and longitude data from the airports table to the information on the routes table"
   ]
  },
  {
   "cell_type": "code",
   "execution_count": 24,
   "metadata": {},
   "outputs": [],
   "source": [
    "import pandas as pd"
   ]
  },
  {
   "cell_type": "code",
   "execution_count": 27,
   "metadata": {},
   "outputs": [
    {
     "data": {
      "text/html": [
       "<div>\n",
       "<style scoped>\n",
       "    .dataframe tbody tr th:only-of-type {\n",
       "        vertical-align: middle;\n",
       "    }\n",
       "\n",
       "    .dataframe tbody tr th {\n",
       "        vertical-align: top;\n",
       "    }\n",
       "\n",
       "    .dataframe thead th {\n",
       "        text-align: right;\n",
       "    }\n",
       "</style>\n",
       "<table border=\"1\" class=\"dataframe\">\n",
       "  <thead>\n",
       "    <tr style=\"text-align: right;\">\n",
       "      <th></th>\n",
       "      <th>index</th>\n",
       "      <th>airline</th>\n",
       "      <th>airline_id</th>\n",
       "      <th>source</th>\n",
       "      <th>source_id</th>\n",
       "      <th>dest</th>\n",
       "      <th>dest_id</th>\n",
       "      <th>codeshare</th>\n",
       "      <th>stops</th>\n",
       "      <th>equipment</th>\n",
       "      <th>source_lat</th>\n",
       "      <th>source_lon</th>\n",
       "    </tr>\n",
       "  </thead>\n",
       "  <tbody>\n",
       "    <tr>\n",
       "      <th>0</th>\n",
       "      <td>0</td>\n",
       "      <td>2B</td>\n",
       "      <td>410</td>\n",
       "      <td>AER</td>\n",
       "      <td>2965</td>\n",
       "      <td>KZN</td>\n",
       "      <td>2990</td>\n",
       "      <td>None</td>\n",
       "      <td>0</td>\n",
       "      <td>CR2</td>\n",
       "      <td>43.449928</td>\n",
       "      <td>39.956589</td>\n",
       "    </tr>\n",
       "    <tr>\n",
       "      <th>1</th>\n",
       "      <td>1</td>\n",
       "      <td>2B</td>\n",
       "      <td>410</td>\n",
       "      <td>ASF</td>\n",
       "      <td>2966</td>\n",
       "      <td>KZN</td>\n",
       "      <td>2990</td>\n",
       "      <td>None</td>\n",
       "      <td>0</td>\n",
       "      <td>CR2</td>\n",
       "      <td>46.283333</td>\n",
       "      <td>48.006278</td>\n",
       "    </tr>\n",
       "    <tr>\n",
       "      <th>2</th>\n",
       "      <td>2</td>\n",
       "      <td>2B</td>\n",
       "      <td>410</td>\n",
       "      <td>ASF</td>\n",
       "      <td>2966</td>\n",
       "      <td>MRV</td>\n",
       "      <td>2962</td>\n",
       "      <td>None</td>\n",
       "      <td>0</td>\n",
       "      <td>CR2</td>\n",
       "      <td>46.283333</td>\n",
       "      <td>48.006278</td>\n",
       "    </tr>\n",
       "    <tr>\n",
       "      <th>3</th>\n",
       "      <td>3</td>\n",
       "      <td>2B</td>\n",
       "      <td>410</td>\n",
       "      <td>CEK</td>\n",
       "      <td>2968</td>\n",
       "      <td>KZN</td>\n",
       "      <td>2990</td>\n",
       "      <td>None</td>\n",
       "      <td>0</td>\n",
       "      <td>CR2</td>\n",
       "      <td>55.305836</td>\n",
       "      <td>61.503333</td>\n",
       "    </tr>\n",
       "    <tr>\n",
       "      <th>4</th>\n",
       "      <td>4</td>\n",
       "      <td>2B</td>\n",
       "      <td>410</td>\n",
       "      <td>CEK</td>\n",
       "      <td>2968</td>\n",
       "      <td>OVB</td>\n",
       "      <td>4078</td>\n",
       "      <td>None</td>\n",
       "      <td>0</td>\n",
       "      <td>CR2</td>\n",
       "      <td>55.305836</td>\n",
       "      <td>61.503333</td>\n",
       "    </tr>\n",
       "  </tbody>\n",
       "</table>\n",
       "</div>"
      ],
      "text/plain": [
       "   index airline airline_id source source_id dest dest_id codeshare stops  \\\n",
       "0      0      2B        410    AER      2965  KZN    2990      None     0   \n",
       "1      1      2B        410    ASF      2966  KZN    2990      None     0   \n",
       "2      2      2B        410    ASF      2966  MRV    2962      None     0   \n",
       "3      3      2B        410    CEK      2968  KZN    2990      None     0   \n",
       "4      4      2B        410    CEK      2968  OVB    4078      None     0   \n",
       "\n",
       "  equipment source_lat source_lon  \n",
       "0       CR2  43.449928  39.956589  \n",
       "1       CR2  46.283333  48.006278  \n",
       "2       CR2  46.283333  48.006278  \n",
       "3       CR2  55.305836  61.503333  \n",
       "4       CR2  55.305836  61.503333  "
      ]
     },
     "execution_count": 27,
     "metadata": {},
     "output_type": "execute_result"
    }
   ],
   "source": [
    "cursor.execute('''SELECT \n",
    "                r.*,\n",
    "                latitude AS source_lat,\n",
    "                longitude AS source_lon\n",
    "        FROM routes AS r\n",
    "        JOIN airports AS a\n",
    "        ON r.source_id = a.id\n",
    "''')\n",
    "df = pd.DataFrame(cursor.fetchall())\n",
    "df.columns = [x[0] for x in cursor.description]\n",
    "df.head()"
   ]
  },
  {
   "cell_type": "code",
   "execution_count": null,
   "metadata": {
    "slideshow": {
     "slide_type": "skip"
    }
   },
   "outputs": [],
   "source": [
    "cursor.execute(\"\"\"\n",
    "SELECT r.*, \n",
    "\t\tlatitude AS source_lat, \n",
    "\t\tlongitude AS source_lon\n",
    "FROM routes AS r\n",
    "JOIN airports AS a on source_id = a.id\n",
    "\"\"\")\n",
    "print(*cursor.description, sep='\\n')"
   ]
  },
  {
   "cell_type": "markdown",
   "metadata": {
    "slideshow": {
     "slide_type": "slide"
    }
   },
   "source": [
    "### Grouping statements\n",
    "\n",
    "Combines `select` and `group by` when you want aggregates by values"
   ]
  },
  {
   "cell_type": "markdown",
   "metadata": {
    "slideshow": {
     "slide_type": "fragment"
    }
   },
   "source": [
    "`select` `min(x)` ... `max()`, `sum()`, etc"
   ]
  },
  {
   "cell_type": "markdown",
   "metadata": {
    "slideshow": {
     "slide_type": "fragment"
    }
   },
   "source": [
    "`group by x`"
   ]
  },
  {
   "cell_type": "markdown",
   "metadata": {
    "slideshow": {
     "slide_type": "slide"
    }
   },
   "source": [
    "**Task**<br>\n",
    "- Which countries have the highest amount of active airlines?\n",
    "- Which countries have the highest amount of inactive airlines?\n",
    "- What about airports by timezones?"
   ]
  },
  {
   "cell_type": "code",
   "execution_count": 34,
   "metadata": {
    "slideshow": {
     "slide_type": "skip"
    }
   },
   "outputs": [
    {
     "name": "stdout",
     "output_type": "stream",
     "text": [
      "('United States', 1697)\n",
      "('Canada', 435)\n",
      "('Germany', 321)\n",
      "('Australia', 263)\n",
      "('Russia', 249)\n",
      "('France', 233)\n",
      "('China', 219)\n",
      "('Brazil', 213)\n",
      "('United Kingdom', 210)\n",
      "('India', 140)\n",
      "('Japan', 131)\n",
      "('Indonesia', 114)\n",
      "('Argentina', 103)\n",
      "('South Africa', 103)\n",
      "('Mexico', 94)\n",
      "('Italy', 92)\n",
      "('Sweden', 86)\n",
      "('Spain', 84)\n",
      "('Iran', 81)\n",
      "('Turkey', 77)\n",
      "('Colombia', 72)\n",
      "('Norway', 69)\n",
      "('Philippines', 64)\n",
      "('Greece', 60)\n",
      "('Thailand', 58)\n",
      "('Venezuela', 58)\n",
      "('Papua New Guinea', 57)\n",
      "('New Zealand', 56)\n",
      "('Kenya', 55)\n",
      "('Switzerland', 53)\n",
      "('Finland', 51)\n",
      "('Malaysia', 47)\n",
      "('Pakistan', 46)\n",
      "('Madagascar', 45)\n",
      "('Algeria', 44)\n",
      "('Burma', 43)\n",
      "('Peru', 43)\n",
      "('Maldives', 42)\n",
      "('Netherlands', 42)\n",
      "('Saudi Arabia', 42)\n",
      "('Portugal', 39)\n",
      "('Chile', 38)\n",
      "('Ecuador', 38)\n",
      "('Bahamas', 37)\n",
      "('Congo (Kinshasa)', 36)\n",
      "('French Polynesia', 36)\n",
      "('Nepal', 36)\n",
      "('Belgium', 34)\n",
      "('Poland', 34)\n",
      "('Ukraine', 33)\n",
      "('Ethiopia', 32)\n",
      "('Marshall Islands', 32)\n",
      "('Taiwan', 32)\n",
      "('South Korea', 31)\n",
      "('Cuba', 30)\n",
      "('Vietnam', 30)\n",
      "('Austria', 29)\n",
      "('Botswana', 29)\n",
      "('Costa Rica', 29)\n",
      "('Greenland', 29)\n",
      "('Vanuatu', 29)\n",
      "('Denmark', 28)\n",
      "('Kazakhstan', 28)\n",
      "('Bolivia', 27)\n",
      "('Czech Republic', 27)\n",
      "('Solomon Islands', 27)\n",
      "('Tanzania', 27)\n",
      "('Angola', 26)\n",
      "('Nigeria', 26)\n",
      "('Panama', 26)\n",
      "('Romania', 26)\n",
      "('Egypt', 25)\n",
      "('Ireland', 25)\n",
      "('Suriname', 23)\n",
      "('French Guiana', 22)\n",
      "('Iceland', 22)\n",
      "('Morocco', 22)\n",
      "('Mozambique', 22)\n",
      "('Afghanistan', 21)\n",
      "('Libya', 21)\n",
      "('Antarctica', 19)\n",
      "('Namibia', 19)\n",
      "('United Arab Emirates', 19)\n",
      "('Kiribati', 18)\n",
      "('Sudan', 18)\n",
      "('Fiji', 17)\n",
      "('Israel', 16)\n",
      "('Zimbabwe', 16)\n",
      "('Hungary', 15)\n",
      "('Puerto Rico', 15)\n",
      "('Sri Lanka', 15)\n",
      "('Croatia', 14)\n",
      "('Dominican Republic', 14)\n",
      "('Gabon', 14)\n",
      "('Guyana', 14)\n",
      "('Haiti', 14)\n",
      "('Bangladesh', 13)\n",
      "('Cambodia', 13)\n",
      "('Hong Kong', 13)\n",
      "('Mongolia', 13)\n",
      "('Tunisia', 13)\n",
      "('Uruguay', 13)\n",
      "('Zambia', 13)\n",
      "('Belize', 12)\n",
      "('Uzbekistan', 12)\n",
      "('Azerbaijan', 11)\n",
      "('Honduras', 11)\n",
      "('Laos', 11)\n",
      "('New Caledonia', 11)\n",
      "('Nicaragua', 11)\n",
      "('Seychelles', 11)\n",
      "('Somalia', 11)\n",
      "('Yemen', 11)\n",
      "('Cameroon', 10)\n",
      "('Guatemala', 10)\n",
      "('Iraq', 10)\n",
      "('Mauritania', 10)\n",
      "('Reunion', 10)\n",
      "('Slovakia', 10)\n",
      "('Belarus', 9)\n",
      "('Estonia', 9)\n",
      "('Senegal', 9)\n",
      "('Uganda', 9)\n",
      "('Cook Islands', 8)\n",
      "('Lithuania', 8)\n",
      "('Malawi', 8)\n",
      "('Mali', 8)\n",
      "('Malta', 8)\n",
      "('Netherlands Antilles', 8)\n",
      "('Paraguay', 8)\n",
      "('Sierra Leone', 8)\n",
      "('Turkmenistan', 8)\n",
      "('Virgin Islands', 8)\n",
      "('Bulgaria', 7)\n",
      "('Cape Verde', 7)\n",
      "('Chad', 7)\n",
      "(\"Cote d'Ivoire\", 7)\n",
      "('Guadeloupe', 7)\n",
      "('Jamaica', 7)\n",
      "('Niger', 7)\n",
      "('Ghana', 6)\n",
      "('Guinea', 6)\n",
      "('Jordan', 6)\n",
      "('Oman', 6)\n",
      "('Singapore', 6)\n",
      "('Syria', 6)\n",
      "('Tonga', 6)\n",
      "('Turks and Caicos Islands', 6)\n",
      "('Cyprus', 5)\n",
      "('Falkland Islands', 5)\n",
      "('Georgia', 5)\n",
      "('Micronesia', 5)\n",
      "('North Korea', 5)\n",
      "('Saint Vincent and the Grenadines', 5)\n",
      "('Slovenia', 5)\n",
      "('Tajikistan', 5)\n",
      "('Armenia', 4)\n",
      "('Bosnia and Herzegovina', 4)\n",
      "('Comoros', 4)\n",
      "('Kyrgyzstan', 4)\n",
      "('Macau', 4)\n",
      "('Martinique', 4)\n",
      "('Samoa', 4)\n",
      "('Serbia', 4)\n",
      "('Svalbard', 4)\n",
      "('American Samoa', 3)\n",
      "('Brunei', 3)\n",
      "('Cayman Islands', 3)\n",
      "('Central African Republic', 3)\n",
      "('Congo (Brazzaville)', 3)\n",
      "('Djibouti', 3)\n",
      "('Dominica', 3)\n",
      "('East Timor', 3)\n",
      "('Eritrea', 3)\n",
      "('Faroe Islands', 3)\n",
      "('Grenada', 3)\n",
      "('Latvia', 3)\n",
      "('Lesotho', 3)\n",
      "('Liberia', 3)\n",
      "('Moldova', 3)\n",
      "('Northern Mariana Islands', 3)\n",
      "('Palau', 3)\n",
      "('Qatar', 3)\n",
      "('Rwanda', 3)\n",
      "('Saint Kitts and Nevis', 3)\n",
      "('Saint Lucia', 3)\n",
      "('Western Sahara', 3)\n",
      "('Antigua and Barbuda', 2)\n",
      "('Bahrain', 2)\n",
      "('Bermuda', 2)\n",
      "('British Virgin Islands', 2)\n",
      "('Burkina Faso', 2)\n",
      "('El Salvador', 2)\n",
      "('Equatorial Guinea', 2)\n",
      "('Guam', 2)\n",
      "('Guernsey', 2)\n",
      "('Guinea-Bissau', 2)\n",
      "('Kuwait', 2)\n",
      "('Lebanon', 2)\n",
      "('Macedonia', 2)\n",
      "('Mauritius', 2)\n",
      "('Montenegro', 2)\n",
      "('Montserrat', 2)\n",
      "('Saint Pierre and Miquelon', 2)\n",
      "('Sao Tome and Principe', 2)\n",
      "('South Georgia and the Islands', 2)\n",
      "('South Sudan', 2)\n",
      "('Togo', 2)\n",
      "('Trinidad and Tobago', 2)\n",
      "('Wallis and Futuna', 2)\n",
      "('Albania', 1)\n",
      "('Anguilla', 1)\n",
      "('Aruba', 1)\n",
      "('Barbados', 1)\n",
      "('Benin', 1)\n",
      "('Bhutan', 1)\n",
      "('British Indian Ocean Territory', 1)\n",
      "('Burundi', 1)\n",
      "('Christmas Island', 1)\n",
      "('Cocos (Keeling) Islands', 1)\n",
      "('Gambia', 1)\n",
      "('Gibraltar', 1)\n",
      "('Isle of Man', 1)\n",
      "('Jersey', 1)\n",
      "('Johnston Atoll', 1)\n",
      "('Korea', 1)\n",
      "('Luxembourg', 1)\n",
      "('Mayotte', 1)\n",
      "('Midway Islands', 1)\n",
      "('Monaco', 1)\n",
      "('Myanmar', 1)\n",
      "('Nauru', 1)\n",
      "('Niue', 1)\n",
      "('Norfolk Island', 1)\n",
      "('Palestine', 1)\n",
      "('Saint Helena', 1)\n",
      "('Swaziland', 1)\n",
      "('Tuvalu', 1)\n",
      "('Wake Island', 1)\n",
      "('West Bank', 1)\n"
     ]
    }
   ],
   "source": [
    "# Which countries have the highest amount of active airports?\n",
    "cursor.execute(\"\"\"SELECT country, COUNT(*)\n",
    "FROM airports\n",
    "GROUP BY country\n",
    "ORDER BY 2 DESC\n",
    "\"\"\")\n",
    "print(*cursor.fetchall(), sep='\\n')"
   ]
  },
  {
   "cell_type": "code",
   "execution_count": 38,
   "metadata": {
    "slideshow": {
     "slide_type": "skip"
    }
   },
   "outputs": [
    {
     "name": "stdout",
     "output_type": "stream",
     "text": [
      "('United States', 939, 'N')\n",
      "('Mexico', 427, 'N')\n",
      "('United Kingdom', 367, 'N')\n",
      "('Canada', 284, 'N')\n",
      "('Russia', 158, 'N')\n",
      "('Spain', 142, 'N')\n",
      "('France', 97, 'N')\n",
      "('Germany', 94, 'N')\n",
      "('South Africa', 81, 'N')\n",
      "('Nigeria', 80, 'N')\n",
      "('Ukraine', 76, 'N')\n",
      "('Kazakhstan', 73, 'N')\n",
      "('Italy', 72, 'N')\n",
      "('Australia', 67, 'N')\n",
      "('Sweden', 55, 'N')\n",
      "('Sudan', 47, 'N')\n",
      "('Switzerland', 46, 'N')\n",
      "('China', 45, 'N')\n",
      "('Netherlands', 43, 'N')\n",
      "('Austria', 38, 'N')\n",
      "('Egypt', 36, 'N')\n",
      "('Angola', 35, 'N')\n",
      "('Brazil', 35, 'N')\n",
      "('Chile', 35, 'N')\n",
      "('Colombia', 34, 'N')\n",
      "('Mauritania', 32, 'N')\n",
      "('Portugal', 32, 'N')\n",
      "('Thailand', 32, 'N')\n",
      "('Indonesia', 31, 'N')\n",
      "('Kyrgyzstan', 29, 'N')\n",
      "('Czech Republic', 27, 'N')\n",
      "('Bulgaria', 25, 'N')\n",
      "('Denmark', 25, 'N')\n",
      "('Dominican Republic', 25, 'N')\n",
      "('Japan', 25, 'N')\n",
      "('Iran', 24, 'N')\n",
      "('New Zealand', 24, 'N')\n",
      "('Libya', 23, 'N')\n",
      "('Norway', 23, 'N')\n",
      "('Sierra Leone', 23, 'N')\n",
      "('Turkey', 23, 'N')\n",
      "('United Arab Emirates', 23, 'N')\n",
      "('Pakistan', 22, 'N')\n",
      "('Venezuela', 22, 'N')\n",
      "('Belgium', 21, 'N')\n",
      "('Ireland', 21, 'N')\n",
      "('Uganda', 21, 'N')\n",
      "('Kenya', 20, 'N')\n",
      "('Zambia', 20, 'N')\n",
      "('Democratic Republic of the Congo', 19, 'N')\n",
      "('Ecuador', 19, 'N')\n",
      "('Greece', 19, 'N')\n",
      "('Ghana', 17, 'N')\n",
      "('Moldova', 17, 'N')\n",
      "('Israel', 16, 'N')\n",
      "('Armenia', 15, 'N')\n",
      "('Hungary', 15, 'N')\n",
      "('Ivory Coast', 15, 'N')\n",
      "('Peru', 15, 'N')\n",
      "('Argentina', 14, 'N')\n",
      "('Haiti', 14, 'N')\n",
      "('Slovakia', 14, 'N')\n",
      "(None, 13, 'N')\n",
      "('Lebanon', 13, 'N')\n",
      "('Lithuania', 13, 'N')\n",
      "('Philippines', 13, 'N')\n",
      "('Cambodia', 12, 'N')\n",
      "('Georgia', 12, 'N')\n",
      "('Poland', 12, 'N')\n",
      "('Senegal', 12, 'N')\n",
      "('Guinea', 11, 'N')\n",
      "('Iceland', 11, 'N')\n",
      "('Luxembourg', 11, 'N')\n",
      "('Bangladesh', 10, 'N')\n",
      "('Equatorial Guinea', 10, 'N')\n",
      "('Gabon', 10, 'N')\n",
      "('Namibia', 10, 'N')\n",
      "('Serbia', 10, 'N')\n",
      "('Democratic Republic of Congo', 9, 'N')\n",
      "('India', 9, 'N')\n",
      "('Latvia', 9, 'N')\n",
      "('Mali', 9, 'N')\n",
      "('Romania', 9, 'N')\n",
      "('Uruguay', 9, 'N')\n",
      "('Uzbekistan', 9, 'N')\n",
      "('Bahrain', 8, 'N')\n",
      "('Barbados', 8, 'N')\n",
      "('Chad', 8, 'N')\n",
      "('Croatia', 8, 'N')\n",
      "('Guinea-Bissau', 8, 'N')\n",
      "('Belarus', 7, 'N')\n",
      "('Finland', 7, 'N')\n",
      "('Malaysia', 7, 'N')\n",
      "('Bahamas', 6, 'N')\n",
      "('Bolivia', 6, 'N')\n",
      "('Burkina Faso', 6, 'N')\n",
      "('Costa Rica', 6, 'N')\n",
      "('Djibouti', 6, 'N')\n",
      "('Gambia', 6, 'N')\n",
      "('Sao Tome and Principe', 6, 'N')\n",
      "('Swaziland', 6, 'N')\n",
      "('Tanzania', 6, 'N')\n",
      "('Benin', 5, 'N')\n",
      "('Central African Republic', 5, 'N')\n",
      "('Cyprus', 5, 'N')\n",
      "('El Salvador', 5, 'N')\n",
      "('Estonia', 5, 'N')\n",
      "('Guatemala', 5, 'N')\n",
      "('Honduras', 5, 'N')\n",
      "('Jordan', 5, 'N')\n",
      "('Mongolia', 5, 'N')\n",
      "('Mozambique', 5, 'N')\n",
      "('Nepal', 5, 'N')\n",
      "('Netherland', 5, 'N')\n",
      "('Panama', 5, 'N')\n",
      "('Rwanda', 5, 'N')\n",
      "('S', 5, 'N')\n",
      "('Slovenia', 5, 'N')\n",
      "('Somali Republic', 5, 'N')\n",
      "('Suriname', 5, 'N')\n",
      "('Tajikistan', 5, 'N')\n",
      "('Afghanistan', 4, 'N')\n",
      "('Algeria', 4, 'N')\n",
      "('Aruba', 4, 'N')\n",
      "('Cameroon', 4, 'N')\n",
      "('Ethiopia', 4, 'N')\n",
      "('Guyana', 4, 'N')\n",
      "('Macedonia', 4, 'N')\n",
      "('Malta', 4, 'N')\n",
      "('Netherlands Antilles', 4, 'N')\n",
      "('Nicaragua', 4, 'N')\n",
      "('Oman', 4, 'N')\n",
      "('Republic of the Congo', 4, 'N')\n",
      "('Sri Lanka', 4, 'N')\n",
      "('Syrian Arab Republic', 4, 'N')\n",
      "('Tunisia', 4, 'N')\n",
      "('Turks and Caicos Islands', 4, 'N')\n",
      "('Zimbabwe', 4, 'N')\n",
      "('Antigua and Barbuda', 3, 'N')\n",
      "('Azerbaijan', 3, 'N')\n",
      "('Cuba', 3, 'N')\n",
      "('Fiji', 3, 'N')\n",
      "('Liberia', 3, 'N')\n",
      "('Malawi', 3, 'N')\n",
      "('Maldives', 3, 'N')\n",
      "('Morocco', 3, 'N')\n",
      "('Niger', 3, 'N')\n",
      "('Papua New Guinea', 3, 'N')\n",
      "('Republic of Korea', 3, 'N')\n",
      "('Saudi Arabia', 3, 'N')\n",
      "('Singapore', 3, 'N')\n",
      "('Togo', 3, 'N')\n",
      "('Albania', 2, 'N')\n",
      "('Bosnia and Herzegovina', 2, 'N')\n",
      "('Burundi', 2, 'N')\n",
      "('Cape Verde', 2, 'N')\n",
      "('Comoros', 2, 'N')\n",
      "('Hong Kong SAR of China', 2, 'N')\n",
      "('Lao Peoples Democratic Republic', 2, 'N')\n",
      "('Madagascar', 2, 'N')\n",
      "('Palau', 2, 'N')\n",
      "('Qatar', 2, 'N')\n",
      "('Saint Lucia', 2, 'N')\n",
      "('Solomon Islands', 2, 'N')\n",
      "('Tonga', 2, 'N')\n",
      "('Turkmenistan', 2, 'N')\n",
      "(' Boonville Stage Line', 1, 'N')\n",
      "('ACOM', 1, 'N')\n",
      "('ACTIVE AERO', 1, 'N')\n",
      "('AEROCENTER', 1, 'N')\n",
      "('AEROCESAR', 1, 'N')\n",
      "('AEROPERLAS', 1, 'N')\n",
      "('AEROPUMA', 1, 'N')\n",
      "('AEROSOL', 1, 'N')\n",
      "('AEROSUN', 1, 'N')\n",
      "('AEROVARADERO', 1, 'N')\n",
      "('AEROWEE', 1, 'N')\n",
      "('AIR CLASS', 1, 'N')\n",
      "('AIR FREIGHTER', 1, 'N')\n",
      "('AIR PRINT', 1, 'N')\n",
      "('AIR-MAUR', 1, 'N')\n",
      "('AIREX', 1, 'N')\n",
      "('AIRFLIGHT', 1, 'N')\n",
      "('AIRMAN', 1, 'N')\n",
      "('AIRNAT', 1, 'N')\n",
      "('AIRPAC', 1, 'N')\n",
      "('AIRPORT HELICOPTER', 1, 'N')\n",
      "('AIRWAVE', 1, 'N')\n",
      "('ALAMO', 1, 'N')\n",
      "('ALASKA PACIFIC', 1, 'N')\n",
      "('ALCON', 1, 'N')\n",
      "('ALDAWLYH AIR', 1, 'N')\n",
      "('ALL STAR', 1, 'N')\n",
      "('ALNACIONAL', 1, 'N')\n",
      "('ANTARES', 1, 'N')\n",
      "('APPALACHIAN', 1, 'N')\n",
      "('AQUILINE', 1, 'N')\n",
      "('ARIZAIR', 1, 'N')\n",
      "('ARMSTRONG', 1, 'N')\n",
      "('ASA PESADA', 1, 'N')\n",
      "('ASTORIA', 1, 'N')\n",
      "('ASUR', 1, 'N')\n",
      "('ATCO', 1, 'N')\n",
      "('ATLANTIC NICARAGUA', 1, 'N')\n",
      "('ATLANTIS CANADA', 1, 'N')\n",
      "('AUDI AIR', 1, 'N')\n",
      "('AURORA AIR', 1, 'N')\n",
      "('AUSA', 1, 'N')\n",
      "('AVEMEX', 1, 'N')\n",
      "('AVINOR', 1, 'N')\n",
      "('AVIOQUINTANA', 1, 'N')\n",
      "('AZIMUT', 1, 'N')\n",
      "('Air S', 1, 'N')\n",
      "('Belize', 1, 'N')\n",
      "('Bermuda', 1, 'N')\n",
      "('COMPANY AS', 1, 'N')\n",
      "('Cayman Islands', 1, 'N')\n",
      "('Congo (Brazzaville)', 1, 'N')\n",
      "('Cook Islands', 1, 'N')\n",
      "(\"Cote d'Ivoire\", 1, 'N')\n",
      "('Faroe Islands', 1, 'N')\n",
      "('Hong Kong', 1, 'N')\n",
      "('Jamaica', 1, 'N')\n",
      "('Kiribati', 1, 'N')\n",
      "('Kuwait', 1, 'N')\n",
      "('LAP', 1, 'N')\n",
      "('Macao', 1, 'N')\n",
      "('Mauritius', 1, 'N')\n",
      "('Monaco', 1, 'N')\n",
      "('Montenegro', 1, 'N')\n",
      "('Montserrat', 1, 'N')\n",
      "('Nauru', 1, 'N')\n",
      "('ODINN', 1, 'N')\n",
      "('Paraguay', 1, 'N')\n",
      "('RENTAXEL', 1, 'N')\n",
      "('Russia]]', 1, 'N')\n",
      "('Russian Federation', 1, 'N')\n",
      "('SCHEFF', 1, 'N')\n",
      "('SWISSBIRD', 1, 'N')\n",
      "('Saint Kitts and Nevis', 1, 'N')\n",
      "('Saint Vincent and the Grenadines', 1, 'N')\n",
      "('Taiwan', 1, 'N')\n",
      "('Trinidad and Tobago', 1, 'N')\n",
      "('UNIFORM OSCAR', 1, 'N')\n",
      "('UNited Kingdom', 1, 'N')\n",
      "('VELES', 1, 'N')\n",
      "('Vietnam', 1, 'N')\n",
      "('WATCHDOG', 1, 'N')\n",
      "('Yemen', 1, 'N')\n",
      "('\\\\N', 1, 'N')\n"
     ]
    }
   ],
   "source": [
    "# Which countries have the highest amount of inactive airports?\n",
    "cursor.execute(\"\"\"SELECT country, COUNT(*), active\n",
    "FROM airlines\n",
    "WHERE active = 'N'\n",
    "GROUP BY country\n",
    "ORDER BY 2 DESC\n",
    "\"\"\")\n",
    "print(*cursor.fetchall(), sep='\\n')"
   ]
  },
  {
   "cell_type": "code",
   "execution_count": 39,
   "metadata": {
    "slideshow": {
     "slide_type": "skip"
    }
   },
   "outputs": [
    {
     "name": "stdout",
     "output_type": "stream",
     "text": [
      "('253', 'Abidjan Felix Houphouet Boigny Intl', 'Africa/Abidjan')\n",
      "('248', 'Kotoka Intl', 'Africa/Accra')\n",
      "('1107', 'Bole Intl', 'Africa/Addis_Ababa')\n",
      "('207', 'Blida', 'Africa/Algiers')\n",
      "('3966', 'Assab Intl', 'Africa/Asmera')\n",
      "('1044', 'Senou', 'Africa/Bamako')\n",
      "('888', 'Bangui M Poko', 'Africa/Bangui')\n",
      "('1050', 'Banjul Intl', 'Africa/Banjul')\n",
      "('1060', 'Cufar', 'Africa/Bissau')\n",
      "('1013', 'Chileka Intl', 'Africa/Blantyre')\n",
      "('883', 'Maya Maya', 'Africa/Brazzaville')\n",
      "('1120', 'Bujumbura Intl', 'Africa/Bujumbura')\n",
      "('1126', 'Alexandria Intl', 'Africa/Cairo')\n",
      "('1064', 'Inezgane', 'Africa/Casablanca')\n",
      "('1099', 'Fria', 'Africa/Conakry')\n",
      "('1081', 'Ziguinchor', 'Africa/Dakar')\n",
      "('1176', 'Arusha', 'Africa/Dar_es_Salaam')\n",
      "('4119', 'Ambouli International Airport', 'Africa/Djibouti')\n",
      "('896', 'Tiko', 'Africa/Douala')\n",
      "('5672', 'Hassan I Airport', 'Africa/El_Aaiun')\n",
      "('1059', 'Freetown Lungi', 'Africa/Freetown')\n",
      "('877', 'Francistown', 'Africa/Gaborone')\n",
      "('1001', 'J M Nkomo Intl', 'Africa/Harare')\n",
      "('790', 'Alexander Bay', 'Africa/Johannesburg')\n",
      "('1173', 'Juba', 'Africa/Juba')\n",
      "('1187', 'Entebbe Intl', 'Africa/Kampala')\n",
      "('1167', 'Dongola', 'Africa/Khartoum')\n",
      "('1036', 'Goma', 'Africa/Kigali')\n",
      "('1020', 'Ndjili Intl', 'Africa/Kinshasa')\n",
      "('260', 'Nnamdi Azikiwe Intl', 'Africa/Lagos')\n",
      "('963', 'Oyem', 'Africa/Libreville')\n",
      "('297', 'Niamtougou International', 'Africa/Lome')\n",
      "('944', 'Mbanza Congo', 'Africa/Luanda')\n",
      "('1031', 'Kisangani Simisini', 'Africa/Lubumbashi')\n",
      "('905', 'Kasompe', 'Africa/Lusaka')\n",
      "('890', 'Bata', 'Africa/Malabo')\n",
      "('974', 'Beira', 'Africa/Maputo')\n",
      "('1018', 'Moshoeshoe I Intl', 'Africa/Maseru')\n",
      "('887', 'Matsapha', 'Africa/Mbabane')\n",
      "('1121', 'Egal Intl', 'Africa/Mogadishu')\n",
      "('1062', 'Monrovia Spriggs Payne', 'Africa/Monrovia')\n",
      "('1138', 'Eldoret Intl', 'Africa/Nairobi')\n",
      "('997', 'Abeche', 'Africa/Ndjamena')\n",
      "('279', 'Maradi', 'Africa/Niamey')\n",
      "('1089', 'Aioun El Atrouss', 'Africa/Nouakchott')\n",
      "('246', 'Ouagadougou', 'Africa/Ouagadougou')\n",
      "('245', 'Cadjehoun', 'Africa/Porto-Novo')\n",
      "('972', 'Principe', 'Africa/Sao_Tome')\n",
      "('1150', 'Bu Attifel', 'Africa/Tripoli')\n",
      "('286', 'Habib Bourguiba Intl', 'Africa/Tunis')\n",
      "('4105', 'Windhoek Hosea Kutako International Airport ', 'Africa/Windhoek')\n",
      "('6882', 'Tyonek Airport', 'America/Anchorage')\n",
      "('2900', 'Wallblake', 'America/Anguilla')\n",
      "('2874', 'V C Bird Intl', 'America/Antigua')\n",
      "('2895', 'Reina Beatrix Intl', 'America/Aruba')\n",
      "('2699', 'Silvio Pettirossi Intl', 'America/Asuncion')\n",
      "('2875', 'Grantley Adams Intl', 'America/Barbados')\n",
      "('1957', 'Philip S W Goldson Intl', 'America/Belize')\n",
      "('5503', 'Chevery Airport', 'America/Blanc-Sablon')\n",
      "('2518', 'Conceicao Do Araguaia', 'America/Boa_Vista')\n",
      "('2705', 'El Eden', 'America/Bogota')\n",
      "('2524', 'Alta Floresta', 'America/Campo_Grande')\n",
      "('2818', 'Oswaldo Guevara Mujica', 'America/Caracas')\n",
      "('2774', 'Rochambeau', 'America/Cayenne')\n",
      "('1925', 'Gerrard Smith Intl', 'America/Cayman')\n",
      "('6885', 'Door County Cherryland Airport', 'America/Chicago')\n",
      "('41', 'Fairmont Hot Springs', 'America/Coral_Harbour')\n",
      "('6869', 'Aeropuerto de Rafaela', 'America/Cordoba')\n",
      "('1872', 'Buenos Aires', 'America/Costa_Rica')\n",
      "('2896', 'Flamingo', 'America/Curacao')\n",
      "('6453', 'Summit Camp', 'America/Danmarkshavn')\n",
      "('48', 'Dawson Creek', 'America/Dawson_Creek')\n",
      "('6881', 'Riverton Regional', 'America/Denver')\n",
      "('2876', 'Canefield', 'America/Dominica')\n",
      "('26', 'Kugaaruk', 'America/Edmonton')\n",
      "('1892', 'El Salvador Intl', 'America/El_Salvador')\n",
      "('2520', 'Amapa', 'America/Fortaleza')\n",
      "('7', 'Narsarsuaq', 'America/Godthab')\n",
      "('1753', 'North Caicos', 'America/Grand_Turk')\n",
      "('2882', 'Point Salines Intl', 'America/Grenada')\n",
      "('2881', 'Le Raizet', 'America/Guadeloupe')\n",
      "('1765', 'Bananera', 'America/Guatemala')\n",
      "('2668', 'Chachoan', 'America/Guayaquil')\n",
      "('2872', 'Linden', 'America/Guyana')\n",
      "('23', 'Shearwater', 'America/Halifax')\n",
      "('1898', 'Gustavo Rizo', 'America/Havana')\n",
      "('1794', 'Ciudad Obregon Intl', 'America/Hermosillo')\n",
      "('1778', 'Boscobel', 'America/Jamaica')\n",
      "('2758', 'Bermejo', 'America/La_Paz')\n",
      "('2776', 'Huancabamba', 'America/Lima')\n",
      "('6883', 'Eastern Oregon Regional Airport', 'America/Los_Angeles')\n",
      "('1860', 'Bluefields', 'America/Managua')\n",
      "('2878', 'Le Lamentin', 'America/Martinique')\n",
      "('1790', 'Nuevo Casas Grandes', 'America/Mazatlan')\n",
      "('1783', 'General Juan N Alvarez Intl', 'America/Mexico_City')\n",
      "('1440', 'Miquelon', 'America/Miquelon')\n",
      "('2813', 'Angel S Adami', 'America/Montevideo')\n",
      "('4146', 'John A. Osborne Airport', 'America/Montserrat')\n",
      "('1927', 'Clarence A Bain', 'America/Nassau')\n",
      "('6891', 'Putnam County Airport', 'America/New_York')\n",
      "('1865', 'Bocas Del Toro Intl', 'America/Panama')\n",
      "('2773', 'Johan A Pengel Intl', 'America/Paramaribo')\n",
      "('3446', 'Ernest A Love Fld', 'America/Phoenix')\n",
      "('1894', 'Cayes', 'America/Port-au-Prince')\n",
      "('2901', 'Crown Point', 'America/Port_of_Spain')\n",
      "('6814', 'Culebra Airport', 'America/Puerto_Rico')\n",
      "('51', 'Estevan', 'America/Regina')\n",
      "('2549', 'Cruzeiro do Sul', 'America/Rio_Branco')\n",
      "('2641', 'Chacalluta', 'America/Santiago')\n",
      "('1756', 'Arroyo Barril Intl', 'America/Santo_Domingo')\n",
      "('2519', 'Campo Delio Jardim De Mattos', 'America/Sao_Paulo')\n",
      "('5439', 'Neerlerit Inaat Airport', 'America/Scoresbysund')\n",
      "('24', 'St Anthony', 'America/St_Johns')\n",
      "('2891', 'Robert L Bradshaw', 'America/St_Kitts')\n",
      "('2893', 'George F L Charles', 'America/St_Lucia')\n",
      "('2883', 'Cyril E King', 'America/St_Thomas')\n",
      "('2905', 'Canouan', 'America/St_Vincent')\n",
      "('1771', 'Goloson Intl', 'America/Tegucigalpa')\n",
      "('10', 'Thule Air Base', 'America/Thule')\n",
      "('1803', 'Ensenada', 'America/Tijuana')\n",
      "('21', 'Sault Ste Marie', 'America/Toronto')\n",
      "('2903', 'Terrance B Lettsome Intl', 'America/Tortola')\n",
      "('25', 'Tofino', 'America/Vancouver')\n",
      "('22', 'Winnipeg St Andrews', 'America/Winnipeg')\n",
      "('2033', 'South Pole Station', 'Antarctica/South_Pole')\n",
      "('658', 'Longyear', 'Arctic/Longyearbyen')\n",
      "('3974', 'Riyan', 'Asia/Aden')\n",
      "('2170', 'Queen Alia Intl', 'Asia/Amman')\n",
      "('6859', 'Mary Airport', 'Asia/Ashgabat')\n",
      "('2234', 'Basrah Intl', 'Asia/Baghdad')\n",
      "('2057', 'Bahrain Intl', 'Asia/Bahrain')\n",
      "('2922', 'Heydar Aliyev', 'Asia/Baku')\n",
      "('3157', 'Don Muang Intl', 'Asia/Bangkok')\n",
      "('2177', 'Rafic Hariri Intl', 'Asia/Beirut')\n",
      "('2912', 'Manas', 'Asia/Bishkek')\n",
      "('3272', 'Brunei Intl', 'Asia/Brunei')\n",
      "('2994', 'Ahmedabad', 'Asia/Calcutta')\n",
      "('3364', 'Capital Intl', 'Asia/Chongqing')\n",
      "('3024', 'Bandaranaike Intl Colombo', 'Asia/Colombo')\n",
      "('2235', 'Aleppo Intl', 'Asia/Damascus')\n",
      "('3068', 'Coxs Bazar', 'Asia/Dhaka')\n",
      "('3309', 'Suai', 'Asia/Dili')\n",
      "('2179', 'Abu Dhabi Intl', 'Asia/Dubai')\n",
      "('2979', 'Dushanbe', 'Asia/Dushanbe')\n",
      "('2174', 'Jerusalem', 'Asia/Gaza')\n",
      "('3077', 'Hong Kong Intl', 'Asia/Hong_Kong')\n",
      "('6373', 'Khovd Airport', 'Asia/Hovd')\n",
      "('2936', 'Bratsk', 'Asia/Irkutsk')\n",
      "('3273', 'Sultan Syarif Kasim Ii', 'Asia/Jakarta')\n",
      "('3241', 'Frans Kaisiepo', 'Asia/Jayapura')\n",
      "('1590', 'Ben Gurion', 'Asia/Jerusalem')\n",
      "('2048', 'Herat', 'Asia/Kabul')\n",
      "('2197', 'Bhagatanwala', 'Asia/Karachi')\n",
      "('3122', 'Bhairahawa', 'Asia/Katmandu')\n",
      "('2955', 'Abakan', 'Asia/Krasnoyarsk')\n",
      "('3262', 'Bintulu', 'Asia/Kuala_Lumpur')\n",
      "('2176', 'Kuwait Intl', 'Asia/Kuwait')\n",
      "('3121', 'Macau Intl', 'Asia/Macau')\n",
      "('2929', 'Provideniya Bay', 'Asia/Magadan')\n",
      "('3886', 'Naha', 'Asia/Makassar')\n",
      "('2397', 'Ninoy Aquino Intl', 'Asia/Manila')\n",
      "('2192', 'Khasab', 'Asia/Muscat')\n",
      "('1197', 'Larnaca', 'Asia/Nicosia')\n",
      "('2956', 'Barnaul', 'Asia/Omsk')\n",
      "('2916', 'Uralsk', 'Asia/Oral')\n",
      "('3033', 'Kampong Chhnang', 'Asia/Phnom_Penh')\n",
      "('3377', 'Pyongyang Intl', 'Asia/Pyongyang')\n",
      "('2241', 'Doha Intl', 'Asia/Qatar')\n",
      "('2908', 'Almaty', 'Asia/Qyzylorda')\n",
      "('3207', 'Ann', 'Asia/Rangoon')\n",
      "('2059', 'Abha', 'Asia/Riyadh')\n",
      "('3196', 'Danang Intl', 'Asia/Saigon')\n",
      "('2980', 'Bukhara', 'Asia/Samarkand')\n",
      "('2361', 'Gwangju', 'Asia/Seoul')\n",
      "('3312', 'Sembawang', 'Asia/Singapore')\n",
      "('2259', 'Shang Yi', 'Asia/Taipei')\n",
      "('3971', 'Batumi', 'Asia/Tbilisi')\n",
      "('2097', 'Abadan', 'Asia/Tehran')\n",
      "('3155', 'Paro', 'Asia/Thimphu')\n",
      "('2279', 'Narita Intl', 'Asia/Tokyo')\n",
      "('3380', 'Chinggis Khaan Intl', 'Asia/Ulaanbaatar')\n",
      "('3115', 'Luang Phabang Intl', 'Asia/Vientiane')\n",
      "('2927', 'Novy', 'Asia/Vladivostok')\n",
      "('2923', 'Yakutsk', 'Asia/Yakutsk')\n",
      "('2968', 'Balandino', 'Asia/Yekaterinburg')\n",
      "('3962', 'Erebuni', 'Asia/Yerevan')\n",
      "('1617', 'Santa Maria', 'Atlantic/Azores')\n",
      "('4069', 'Bermuda Intl', 'Atlantic/Bermuda')\n",
      "('1051', 'Fuerteventura', 'Atlantic/Canary')\n",
      "('1102', 'Amilcar Cabral Intl', 'Atlantic/Cape_Verde')\n",
      "('625', 'Vagar', 'Atlantic/Faeroe')\n",
      "('11', 'Akureyri', 'Atlantic/Reykjavik')\n",
      "('6436', 'Grytviken', 'Atlantic/South_Georgia')\n",
      "('892', 'Ascension Aux Af', 'Atlantic/St_Helena')\n",
      "('579', 'Mount Pleasant', 'Atlantic/Stanley')\n",
      "('3341', 'Adelaide Intl', 'Australia/Adelaide')\n",
      "('6870', 'Whitsunday Airstrip', 'Australia/Brisbane')\n",
      "('3319', 'Alice Springs', 'Australia/Darwin')\n",
      "('3332', 'Avalon', 'Australia/Hobart')\n",
      "('3336', 'Hobart', 'Australia/Melbourne')\n",
      "('6860', 'Bungle Bungle Airport', 'Australia/Perth')\n",
      "('6809', 'Maitland Airport', 'Australia/Sydney')\n",
      "('580', 'Schiphol', 'Europe/Amsterdam')\n",
      "('6887', 'Alexion', 'Europe/Athens')\n",
      "('1739', 'Beograd', 'Europe/Belgrade')\n",
      "('317', 'Bautzen', 'Europe/Berlin')\n",
      "('1745', 'M R Stefanik', 'Europe/Bratislava')\n",
      "('299', 'Deurne', 'Europe/Brussels')\n",
      "('1647', 'Arad', 'Europe/Bucharest')\n",
      "('1489', 'Ferihegy', 'Europe/Budapest')\n",
      "('1734', 'Balti Intl', 'Europe/Chisinau')\n",
      "('607', 'Aarhus', 'Europe/Copenhagen')\n",
      "('596', 'Cork', 'Europe/Dublin')\n",
      "('1738', 'Gibraltar', 'Europe/Gibraltar')\n",
      "('497', 'Alderney', 'Europe/Guernsey')\n",
      "('417', 'Enontekio', 'Europe/Helsinki')\n",
      "('520', 'Isle Of Man', 'Europe/Isle_of_Man')\n",
      "('1681', 'Guvercinlik', 'Europe/Istanbul')\n",
      "('499', 'Jersey', 'Europe/Jersey')\n",
      "('2952', 'Khrabrovo', 'Europe/Kaliningrad')\n",
      "('2939', 'Boryspil Intl', 'Europe/Kiev')\n",
      "('1616', 'Alverca', 'Europe/Lisbon')\n",
      "('1568', 'Cerklje', 'Europe/Ljubljana')\n",
      "('465', 'Belfast Intl', 'Europe/London')\n",
      "('629', 'Luxembourg', 'Europe/Luxembourg')\n",
      "('1058', 'Melilla', 'Europe/Madrid')\n",
      "('1606', 'Luqa', 'Europe/Malta')\n",
      "('442', 'Mariehamn', 'Europe/Mariehamn')\n",
      "('2950', 'Gomel', 'Europe/Minsk')\n",
      "('4264', 'Monaco', 'Europe/Monaco')\n",
      "('2948', 'Pulkovo', 'Europe/Moscow')\n",
      "('630', 'Vigra', 'Europe/Oslo')\n",
      "('1254', 'Calais Dunkerque', 'Europe/Paris')\n",
      "('1741', 'Podgorica', 'Europe/Podgorica')\n",
      "('1573', 'Ceske Budejovice', 'Europe/Prague')\n",
      "('3952', 'Liepaja Intl', 'Europe/Riga')\n",
      "('1499', 'Amendola', 'Europe/Rome')\n",
      "('1645', 'Mostar', 'Europe/Sarajevo')\n",
      "('1736', 'Ohrid', 'Europe/Skopje')\n",
      "('1191', 'Burgas', 'Europe/Sofia')\n",
      "('682', 'Malmen', 'Europe/Stockholm')\n",
      "('411', 'Amari', 'Europe/Tallinn')\n",
      "('1190', 'Tirana Rinas', 'Europe/Tirane')\n",
      "('8462', 'Balzers Heliport', 'Europe/Vaduz')\n",
      "('1607', 'Wiener Neustadt East', 'Europe/Vienna')\n",
      "('3954', 'Siauliai Intl', 'Europe/Vilnius')\n",
      "('667', 'Babice', 'Europe/Warsaw')\n",
      "('1200', 'Dubrovnik', 'Europe/Zagreb')\n",
      "('1664', 'Les Eplatures', 'Europe/Zurich')\n",
      "('918', 'Ivato', 'Indian/Antananarivo')\n",
      "('895', 'Diego Garcia Nsf', 'Indian/Chagos')\n",
      "('3353', 'Christmas Island', 'Indian/Christmas')\n",
      "('6315', 'Cocos Keeling Island Airport', 'Indian/Cocos')\n",
      "('912', 'Prince Said Ibrahim', 'Indian/Comoro')\n",
      "('991', 'Alphonse', 'Indian/Mahe')\n",
      "('6811', 'South Ari Atoll', 'Indian/Maldives')\n",
      "('893', 'Sir Seewoosagur Ramgoolam Intl', 'Indian/Mauritius')\n",
      "('915', 'Dzaoudzi Pamandzi', 'Indian/Mayotte')\n",
      "('916', 'St Denis Gillot', 'Indian/Reunion')\n",
      "('1969', 'Faleolo Intl', 'Pacific/Apia')\n",
      "('2006', 'Auckland Intl', 'Pacific/Auckland')\n",
      "('2010', 'Chatham Islands', 'Pacific/Chatham')\n",
      "('2657', 'Mataveri Intl', 'Pacific/Easter')\n",
      "('1997', 'Port Vila Bauerfield', 'Pacific/Efate')\n",
      "('2242', 'Canton', 'Pacific/Enderbury')\n",
      "('1960', 'Nadi Intl', 'Pacific/Fiji')\n",
      "('4077', 'Funafuti International', 'Pacific/Funafuti')\n",
      "('2672', 'Seymour', 'Pacific/Galapagos')\n",
      "('1979', 'Totegegie', 'Pacific/Gambier')\n",
      "('4074', 'Honiara International', 'Pacific/Guadalcanal')\n",
      "('2245', 'Andersen Afb', 'Pacific/Guam')\n",
      "('3415', 'Hilo Intl', 'Pacific/Honolulu')\n",
      "('4382', 'Johnston Atoll', 'Pacific/Johnston')\n",
      "('2257', 'Kosrae', 'Pacific/Kosrae')\n",
      "('2249', 'Marshall Islands Intl', 'Pacific/Majuro')\n",
      "('1987', 'Nuku Hiva', 'Pacific/Marquesas')\n",
      "('2253', 'Midway Atoll', 'Pacific/Midway')\n",
      "('4076', 'Nauru Intl', 'Pacific/Nauru')\n",
      "('5884', 'Niue International Airport', 'Pacific/Niue')\n",
      "('3359', 'Norfolk Island Intl', 'Pacific/Norfolk')\n",
      "('1998', 'Kone', 'Pacific/Noumea')\n",
      "('1970', 'Pago Pago Intl', 'Pacific/Pago_Pago')\n",
      "('2256', 'Babelthuap', 'Pacific/Palau')\n",
      "('2255', 'Pohnpei Intl', 'Pacific/Ponape')\n",
      "('1', 'Goroka', 'Pacific/Port_Moresby')\n",
      "('1958', 'Aitutaki', 'Pacific/Rarotonga')\n",
      "('2243', 'Rota Intl', 'Pacific/Saipan')\n",
      "('1972', 'Tubuai', 'Pacific/Tahiti')\n",
      "('1965', 'Bonriki Intl', 'Pacific/Tarawa')\n",
      "('1963', 'Fua Amotu Intl', 'Pacific/Tongatapu')\n",
      "('2254', 'Chuuk Intl', 'Pacific/Truk')\n",
      "('7674', 'Wake Island Afld', 'Pacific/Wake')\n",
      "('1968', 'Wallis', 'Pacific/Wallis')\n",
      "('1907', 'Guantanamo Bay Ns', '\\\\N')\n"
     ]
    }
   ],
   "source": [
    "# What about airports by timezones?\n",
    "cursor.execute(\"\"\"SELECT id, name, timezone\n",
    "FROM airports\n",
    "GROUP BY timezone\n",
    "\"\"\")\n",
    "print(*cursor.fetchall(), sep='\\n')"
   ]
  },
  {
   "cell_type": "code",
   "execution_count": 40,
   "metadata": {},
   "outputs": [],
   "source": [
    "# It's always a good idea to close our connections when we're done\n",
    "cursor.close()\n",
    "con.close()"
   ]
  },
  {
   "cell_type": "markdown",
   "metadata": {
    "slideshow": {
     "slide_type": "slide"
    }
   },
   "source": [
    "## Goal 5: Transfering from sqlite to pandas"
   ]
  },
  {
   "cell_type": "code",
   "execution_count": 41,
   "metadata": {},
   "outputs": [],
   "source": [
    "import pandas as pd"
   ]
  },
  {
   "cell_type": "code",
   "execution_count": 42,
   "metadata": {
    "slideshow": {
     "slide_type": "fragment"
    }
   },
   "outputs": [
    {
     "data": {
      "text/html": [
       "<div>\n",
       "<style scoped>\n",
       "    .dataframe tbody tr th:only-of-type {\n",
       "        vertical-align: middle;\n",
       "    }\n",
       "\n",
       "    .dataframe tbody tr th {\n",
       "        vertical-align: top;\n",
       "    }\n",
       "\n",
       "    .dataframe thead th {\n",
       "        text-align: right;\n",
       "    }\n",
       "</style>\n",
       "<table border=\"1\" class=\"dataframe\">\n",
       "  <thead>\n",
       "    <tr style=\"text-align: right;\">\n",
       "      <th></th>\n",
       "      <th>index</th>\n",
       "      <th>id</th>\n",
       "      <th>name</th>\n",
       "      <th>city</th>\n",
       "      <th>country</th>\n",
       "      <th>code</th>\n",
       "      <th>icao</th>\n",
       "      <th>latitude</th>\n",
       "      <th>longitude</th>\n",
       "      <th>altitude</th>\n",
       "      <th>offset</th>\n",
       "      <th>dst</th>\n",
       "      <th>timezone</th>\n",
       "    </tr>\n",
       "  </thead>\n",
       "  <tbody>\n",
       "    <tr>\n",
       "      <th>0</th>\n",
       "      <td>0</td>\n",
       "      <td>1</td>\n",
       "      <td>Goroka</td>\n",
       "      <td>Goroka</td>\n",
       "      <td>Papua New Guinea</td>\n",
       "      <td>GKA</td>\n",
       "      <td>AYGA</td>\n",
       "      <td>-6.081689</td>\n",
       "      <td>145.391881</td>\n",
       "      <td>5282</td>\n",
       "      <td>10</td>\n",
       "      <td>U</td>\n",
       "      <td>Pacific/Port_Moresby</td>\n",
       "    </tr>\n",
       "    <tr>\n",
       "      <th>1</th>\n",
       "      <td>1</td>\n",
       "      <td>2</td>\n",
       "      <td>Madang</td>\n",
       "      <td>Madang</td>\n",
       "      <td>Papua New Guinea</td>\n",
       "      <td>MAG</td>\n",
       "      <td>AYMD</td>\n",
       "      <td>-5.207083</td>\n",
       "      <td>145.7887</td>\n",
       "      <td>20</td>\n",
       "      <td>10</td>\n",
       "      <td>U</td>\n",
       "      <td>Pacific/Port_Moresby</td>\n",
       "    </tr>\n",
       "    <tr>\n",
       "      <th>2</th>\n",
       "      <td>2</td>\n",
       "      <td>3</td>\n",
       "      <td>Mount Hagen</td>\n",
       "      <td>Mount Hagen</td>\n",
       "      <td>Papua New Guinea</td>\n",
       "      <td>HGU</td>\n",
       "      <td>AYMH</td>\n",
       "      <td>-5.826789</td>\n",
       "      <td>144.295861</td>\n",
       "      <td>5388</td>\n",
       "      <td>10</td>\n",
       "      <td>U</td>\n",
       "      <td>Pacific/Port_Moresby</td>\n",
       "    </tr>\n",
       "    <tr>\n",
       "      <th>3</th>\n",
       "      <td>3</td>\n",
       "      <td>4</td>\n",
       "      <td>Nadzab</td>\n",
       "      <td>Nadzab</td>\n",
       "      <td>Papua New Guinea</td>\n",
       "      <td>LAE</td>\n",
       "      <td>AYNZ</td>\n",
       "      <td>-6.569828</td>\n",
       "      <td>146.726242</td>\n",
       "      <td>239</td>\n",
       "      <td>10</td>\n",
       "      <td>U</td>\n",
       "      <td>Pacific/Port_Moresby</td>\n",
       "    </tr>\n",
       "    <tr>\n",
       "      <th>4</th>\n",
       "      <td>4</td>\n",
       "      <td>5</td>\n",
       "      <td>Port Moresby Jacksons Intl</td>\n",
       "      <td>Port Moresby</td>\n",
       "      <td>Papua New Guinea</td>\n",
       "      <td>POM</td>\n",
       "      <td>AYPY</td>\n",
       "      <td>-9.443383</td>\n",
       "      <td>147.22005</td>\n",
       "      <td>146</td>\n",
       "      <td>10</td>\n",
       "      <td>U</td>\n",
       "      <td>Pacific/Port_Moresby</td>\n",
       "    </tr>\n",
       "  </tbody>\n",
       "</table>\n",
       "</div>"
      ],
      "text/plain": [
       "   index id                        name          city           country code  \\\n",
       "0      0  1                      Goroka        Goroka  Papua New Guinea  GKA   \n",
       "1      1  2                      Madang        Madang  Papua New Guinea  MAG   \n",
       "2      2  3                 Mount Hagen   Mount Hagen  Papua New Guinea  HGU   \n",
       "3      3  4                      Nadzab        Nadzab  Papua New Guinea  LAE   \n",
       "4      4  5  Port Moresby Jacksons Intl  Port Moresby  Papua New Guinea  POM   \n",
       "\n",
       "   icao   latitude   longitude altitude offset dst              timezone  \n",
       "0  AYGA  -6.081689  145.391881     5282     10   U  Pacific/Port_Moresby  \n",
       "1  AYMD  -5.207083    145.7887       20     10   U  Pacific/Port_Moresby  \n",
       "2  AYMH  -5.826789  144.295861     5388     10   U  Pacific/Port_Moresby  \n",
       "3  AYNZ  -6.569828  146.726242      239     10   U  Pacific/Port_Moresby  \n",
       "4  AYPY  -9.443383   147.22005      146     10   U  Pacific/Port_Moresby  "
      ]
     },
     "execution_count": 42,
     "metadata": {},
     "output_type": "execute_result"
    }
   ],
   "source": [
    "pd_con = sqlite3.connect(\"data/flights.db\")\n",
    "df = pd.read_sql_query(\"select * from airports limit 5;\", pd_con)\n",
    "df"
   ]
  },
  {
   "cell_type": "markdown",
   "metadata": {
    "slideshow": {
     "slide_type": "slide"
    }
   },
   "source": [
    "**Task**: \n",
    "Convert one of the earlier queries in the lesson to a pandas data frame"
   ]
  },
  {
   "cell_type": "code",
   "execution_count": 44,
   "metadata": {},
   "outputs": [
    {
     "data": {
      "text/html": [
       "<div>\n",
       "<style scoped>\n",
       "    .dataframe tbody tr th:only-of-type {\n",
       "        vertical-align: middle;\n",
       "    }\n",
       "\n",
       "    .dataframe tbody tr th {\n",
       "        vertical-align: top;\n",
       "    }\n",
       "\n",
       "    .dataframe thead th {\n",
       "        text-align: right;\n",
       "    }\n",
       "</style>\n",
       "<table border=\"1\" class=\"dataframe\">\n",
       "  <thead>\n",
       "    <tr style=\"text-align: right;\">\n",
       "      <th></th>\n",
       "      <th>id</th>\n",
       "      <th>name</th>\n",
       "      <th>country</th>\n",
       "    </tr>\n",
       "  </thead>\n",
       "  <tbody>\n",
       "    <tr>\n",
       "      <th>0</th>\n",
       "      <td>1</td>\n",
       "      <td>Private flight</td>\n",
       "      <td>None</td>\n",
       "    </tr>\n",
       "    <tr>\n",
       "      <th>1</th>\n",
       "      <td>2</td>\n",
       "      <td>135 Airways</td>\n",
       "      <td>United States</td>\n",
       "    </tr>\n",
       "    <tr>\n",
       "      <th>2</th>\n",
       "      <td>3</td>\n",
       "      <td>1Time Airline</td>\n",
       "      <td>South Africa</td>\n",
       "    </tr>\n",
       "    <tr>\n",
       "      <th>3</th>\n",
       "      <td>4</td>\n",
       "      <td>2 Sqn No 1 Elementary Flying Training School</td>\n",
       "      <td>United Kingdom</td>\n",
       "    </tr>\n",
       "    <tr>\n",
       "      <th>4</th>\n",
       "      <td>5</td>\n",
       "      <td>213 Flight Unit</td>\n",
       "      <td>Russia</td>\n",
       "    </tr>\n",
       "    <tr>\n",
       "      <th>5</th>\n",
       "      <td>6</td>\n",
       "      <td>223 Flight Unit State Airline</td>\n",
       "      <td>Russia</td>\n",
       "    </tr>\n",
       "    <tr>\n",
       "      <th>6</th>\n",
       "      <td>7</td>\n",
       "      <td>224th Flight Unit</td>\n",
       "      <td>Russia</td>\n",
       "    </tr>\n",
       "    <tr>\n",
       "      <th>7</th>\n",
       "      <td>8</td>\n",
       "      <td>247 Jet Ltd</td>\n",
       "      <td>United Kingdom</td>\n",
       "    </tr>\n",
       "    <tr>\n",
       "      <th>8</th>\n",
       "      <td>9</td>\n",
       "      <td>3D Aviation</td>\n",
       "      <td>United States</td>\n",
       "    </tr>\n",
       "    <tr>\n",
       "      <th>9</th>\n",
       "      <td>10</td>\n",
       "      <td>40-Mile Air</td>\n",
       "      <td>United States</td>\n",
       "    </tr>\n",
       "    <tr>\n",
       "      <th>10</th>\n",
       "      <td>11</td>\n",
       "      <td>4D Air</td>\n",
       "      <td>Thailand</td>\n",
       "    </tr>\n",
       "    <tr>\n",
       "      <th>11</th>\n",
       "      <td>12</td>\n",
       "      <td>611897 Alberta Limited</td>\n",
       "      <td>Canada</td>\n",
       "    </tr>\n",
       "    <tr>\n",
       "      <th>12</th>\n",
       "      <td>13</td>\n",
       "      <td>Ansett Australia</td>\n",
       "      <td>Australia</td>\n",
       "    </tr>\n",
       "    <tr>\n",
       "      <th>13</th>\n",
       "      <td>14</td>\n",
       "      <td>Abacus International</td>\n",
       "      <td>Singapore</td>\n",
       "    </tr>\n",
       "    <tr>\n",
       "      <th>14</th>\n",
       "      <td>15</td>\n",
       "      <td>Abelag Aviation</td>\n",
       "      <td>Belgium</td>\n",
       "    </tr>\n",
       "    <tr>\n",
       "      <th>15</th>\n",
       "      <td>16</td>\n",
       "      <td>Army Air Corps</td>\n",
       "      <td>United Kingdom</td>\n",
       "    </tr>\n",
       "    <tr>\n",
       "      <th>16</th>\n",
       "      <td>17</td>\n",
       "      <td>Aero Aviation Centre Ltd.</td>\n",
       "      <td>Canada</td>\n",
       "    </tr>\n",
       "    <tr>\n",
       "      <th>17</th>\n",
       "      <td>18</td>\n",
       "      <td>Aero Servicios Ejecutivos Internacionales</td>\n",
       "      <td>Mexico</td>\n",
       "    </tr>\n",
       "    <tr>\n",
       "      <th>18</th>\n",
       "      <td>19</td>\n",
       "      <td>Aero Biniza</td>\n",
       "      <td>Mexico</td>\n",
       "    </tr>\n",
       "    <tr>\n",
       "      <th>19</th>\n",
       "      <td>20</td>\n",
       "      <td>Aero Albatros</td>\n",
       "      <td>Spain</td>\n",
       "    </tr>\n",
       "    <tr>\n",
       "      <th>20</th>\n",
       "      <td>21</td>\n",
       "      <td>Aigle Azur</td>\n",
       "      <td>France</td>\n",
       "    </tr>\n",
       "    <tr>\n",
       "      <th>21</th>\n",
       "      <td>22</td>\n",
       "      <td>Aloha Airlines</td>\n",
       "      <td>United States</td>\n",
       "    </tr>\n",
       "    <tr>\n",
       "      <th>22</th>\n",
       "      <td>23</td>\n",
       "      <td>Alaska Island Air</td>\n",
       "      <td>United States</td>\n",
       "    </tr>\n",
       "    <tr>\n",
       "      <th>23</th>\n",
       "      <td>24</td>\n",
       "      <td>American Airlines</td>\n",
       "      <td>United States</td>\n",
       "    </tr>\n",
       "    <tr>\n",
       "      <th>24</th>\n",
       "      <td>25</td>\n",
       "      <td>Aviation Management Corporation</td>\n",
       "      <td>United States</td>\n",
       "    </tr>\n",
       "    <tr>\n",
       "      <th>25</th>\n",
       "      <td>26</td>\n",
       "      <td>Atlantis Airlines (USA)</td>\n",
       "      <td>United States</td>\n",
       "    </tr>\n",
       "    <tr>\n",
       "      <th>26</th>\n",
       "      <td>27</td>\n",
       "      <td>Aerovista Airlines</td>\n",
       "      <td>United Arab Emirates</td>\n",
       "    </tr>\n",
       "    <tr>\n",
       "      <th>27</th>\n",
       "      <td>28</td>\n",
       "      <td>Asiana Airlines</td>\n",
       "      <td>Republic of Korea</td>\n",
       "    </tr>\n",
       "    <tr>\n",
       "      <th>28</th>\n",
       "      <td>29</td>\n",
       "      <td>Askari Aviation</td>\n",
       "      <td>Pakistan</td>\n",
       "    </tr>\n",
       "    <tr>\n",
       "      <th>29</th>\n",
       "      <td>30</td>\n",
       "      <td>Australia Asia Airlines</td>\n",
       "      <td>Australia</td>\n",
       "    </tr>\n",
       "    <tr>\n",
       "      <th>...</th>\n",
       "      <td>...</td>\n",
       "      <td>...</td>\n",
       "      <td>...</td>\n",
       "    </tr>\n",
       "    <tr>\n",
       "      <th>6018</th>\n",
       "      <td>19651</td>\n",
       "      <td>CARICOM AIRWAYS (BARBADOS) INC.</td>\n",
       "      <td>Barbados</td>\n",
       "    </tr>\n",
       "    <tr>\n",
       "      <th>6019</th>\n",
       "      <td>19674</td>\n",
       "      <td>Rainbow Air (RAI)</td>\n",
       "      <td>United States</td>\n",
       "    </tr>\n",
       "    <tr>\n",
       "      <th>6020</th>\n",
       "      <td>19675</td>\n",
       "      <td>Rainbow Air Canada</td>\n",
       "      <td>Canada</td>\n",
       "    </tr>\n",
       "    <tr>\n",
       "      <th>6021</th>\n",
       "      <td>19676</td>\n",
       "      <td>Rainbow Air Polynesia</td>\n",
       "      <td>United States</td>\n",
       "    </tr>\n",
       "    <tr>\n",
       "      <th>6022</th>\n",
       "      <td>19677</td>\n",
       "      <td>Rainbow Air Euro</td>\n",
       "      <td>United Kingdom</td>\n",
       "    </tr>\n",
       "    <tr>\n",
       "      <th>6023</th>\n",
       "      <td>19678</td>\n",
       "      <td>Rainbow Air US</td>\n",
       "      <td>United States</td>\n",
       "    </tr>\n",
       "    <tr>\n",
       "      <th>6024</th>\n",
       "      <td>19745</td>\n",
       "      <td>Transilvania</td>\n",
       "      <td>Romania</td>\n",
       "    </tr>\n",
       "    <tr>\n",
       "      <th>6025</th>\n",
       "      <td>19751</td>\n",
       "      <td>Dobrolet</td>\n",
       "      <td>Russia</td>\n",
       "    </tr>\n",
       "    <tr>\n",
       "      <th>6026</th>\n",
       "      <td>19774</td>\n",
       "      <td>Spike Airlines</td>\n",
       "      <td>United States</td>\n",
       "    </tr>\n",
       "    <tr>\n",
       "      <th>6027</th>\n",
       "      <td>19776</td>\n",
       "      <td>Grand Cru Airlines</td>\n",
       "      <td>Lithuania</td>\n",
       "    </tr>\n",
       "    <tr>\n",
       "      <th>6028</th>\n",
       "      <td>19785</td>\n",
       "      <td>Go2Sky</td>\n",
       "      <td>Slovakia</td>\n",
       "    </tr>\n",
       "    <tr>\n",
       "      <th>6029</th>\n",
       "      <td>19803</td>\n",
       "      <td>All Argentina</td>\n",
       "      <td>Argentina</td>\n",
       "    </tr>\n",
       "    <tr>\n",
       "      <th>6030</th>\n",
       "      <td>19804</td>\n",
       "      <td>All America</td>\n",
       "      <td>United States</td>\n",
       "    </tr>\n",
       "    <tr>\n",
       "      <th>6031</th>\n",
       "      <td>19805</td>\n",
       "      <td>All Asia</td>\n",
       "      <td>China</td>\n",
       "    </tr>\n",
       "    <tr>\n",
       "      <th>6032</th>\n",
       "      <td>19806</td>\n",
       "      <td>All Africa</td>\n",
       "      <td>South Africa</td>\n",
       "    </tr>\n",
       "    <tr>\n",
       "      <th>6033</th>\n",
       "      <td>19807</td>\n",
       "      <td>Regionalia México</td>\n",
       "      <td>Mexico</td>\n",
       "    </tr>\n",
       "    <tr>\n",
       "      <th>6034</th>\n",
       "      <td>19808</td>\n",
       "      <td>All Europe</td>\n",
       "      <td>United Kingdom</td>\n",
       "    </tr>\n",
       "    <tr>\n",
       "      <th>6035</th>\n",
       "      <td>19809</td>\n",
       "      <td>All Spain</td>\n",
       "      <td>Spain</td>\n",
       "    </tr>\n",
       "    <tr>\n",
       "      <th>6036</th>\n",
       "      <td>19810</td>\n",
       "      <td>Regional Air Iceland</td>\n",
       "      <td>Iceland</td>\n",
       "    </tr>\n",
       "    <tr>\n",
       "      <th>6037</th>\n",
       "      <td>19811</td>\n",
       "      <td>British Air Ferries</td>\n",
       "      <td>United Kingdom</td>\n",
       "    </tr>\n",
       "    <tr>\n",
       "      <th>6038</th>\n",
       "      <td>19812</td>\n",
       "      <td>Voestar</td>\n",
       "      <td>Brazil</td>\n",
       "    </tr>\n",
       "    <tr>\n",
       "      <th>6039</th>\n",
       "      <td>19813</td>\n",
       "      <td>All Colombia</td>\n",
       "      <td>Colombia</td>\n",
       "    </tr>\n",
       "    <tr>\n",
       "      <th>6040</th>\n",
       "      <td>19814</td>\n",
       "      <td>Regionalia Uruguay</td>\n",
       "      <td>Uruguay</td>\n",
       "    </tr>\n",
       "    <tr>\n",
       "      <th>6041</th>\n",
       "      <td>19815</td>\n",
       "      <td>Regionalia Venezuela</td>\n",
       "      <td>Venezuela</td>\n",
       "    </tr>\n",
       "    <tr>\n",
       "      <th>6042</th>\n",
       "      <td>19827</td>\n",
       "      <td>Regionalia Chile</td>\n",
       "      <td>Chile</td>\n",
       "    </tr>\n",
       "    <tr>\n",
       "      <th>6043</th>\n",
       "      <td>19828</td>\n",
       "      <td>Vuela Cuba</td>\n",
       "      <td>Cuba</td>\n",
       "    </tr>\n",
       "    <tr>\n",
       "      <th>6044</th>\n",
       "      <td>19830</td>\n",
       "      <td>All Australia</td>\n",
       "      <td>Australia</td>\n",
       "    </tr>\n",
       "    <tr>\n",
       "      <th>6045</th>\n",
       "      <td>19831</td>\n",
       "      <td>Fly Europa</td>\n",
       "      <td>Spain</td>\n",
       "    </tr>\n",
       "    <tr>\n",
       "      <th>6046</th>\n",
       "      <td>19834</td>\n",
       "      <td>FlyPortugal</td>\n",
       "      <td>Portugal</td>\n",
       "    </tr>\n",
       "    <tr>\n",
       "      <th>6047</th>\n",
       "      <td>19845</td>\n",
       "      <td>FTI Fluggesellschaft</td>\n",
       "      <td>Germany</td>\n",
       "    </tr>\n",
       "  </tbody>\n",
       "</table>\n",
       "<p>6048 rows × 3 columns</p>\n",
       "</div>"
      ],
      "text/plain": [
       "         id                                          name  \\\n",
       "0         1                                Private flight   \n",
       "1         2                                   135 Airways   \n",
       "2         3                                 1Time Airline   \n",
       "3         4  2 Sqn No 1 Elementary Flying Training School   \n",
       "4         5                               213 Flight Unit   \n",
       "5         6                 223 Flight Unit State Airline   \n",
       "6         7                             224th Flight Unit   \n",
       "7         8                                   247 Jet Ltd   \n",
       "8         9                                   3D Aviation   \n",
       "9        10                                   40-Mile Air   \n",
       "10       11                                        4D Air   \n",
       "11       12                        611897 Alberta Limited   \n",
       "12       13                              Ansett Australia   \n",
       "13       14                          Abacus International   \n",
       "14       15                               Abelag Aviation   \n",
       "15       16                                Army Air Corps   \n",
       "16       17                     Aero Aviation Centre Ltd.   \n",
       "17       18     Aero Servicios Ejecutivos Internacionales   \n",
       "18       19                                   Aero Biniza   \n",
       "19       20                                 Aero Albatros   \n",
       "20       21                                    Aigle Azur   \n",
       "21       22                                Aloha Airlines   \n",
       "22       23                             Alaska Island Air   \n",
       "23       24                             American Airlines   \n",
       "24       25               Aviation Management Corporation   \n",
       "25       26                       Atlantis Airlines (USA)   \n",
       "26       27                            Aerovista Airlines   \n",
       "27       28                               Asiana Airlines   \n",
       "28       29                               Askari Aviation   \n",
       "29       30                       Australia Asia Airlines   \n",
       "...     ...                                           ...   \n",
       "6018  19651               CARICOM AIRWAYS (BARBADOS) INC.   \n",
       "6019  19674                             Rainbow Air (RAI)   \n",
       "6020  19675                            Rainbow Air Canada   \n",
       "6021  19676                         Rainbow Air Polynesia   \n",
       "6022  19677                              Rainbow Air Euro   \n",
       "6023  19678                                Rainbow Air US   \n",
       "6024  19745                                  Transilvania   \n",
       "6025  19751                                      Dobrolet   \n",
       "6026  19774                                Spike Airlines   \n",
       "6027  19776                            Grand Cru Airlines   \n",
       "6028  19785                                        Go2Sky   \n",
       "6029  19803                                 All Argentina   \n",
       "6030  19804                                   All America   \n",
       "6031  19805                                      All Asia   \n",
       "6032  19806                                    All Africa   \n",
       "6033  19807                             Regionalia México   \n",
       "6034  19808                                    All Europe   \n",
       "6035  19809                                     All Spain   \n",
       "6036  19810                          Regional Air Iceland   \n",
       "6037  19811                           British Air Ferries   \n",
       "6038  19812                                       Voestar   \n",
       "6039  19813                                  All Colombia   \n",
       "6040  19814                            Regionalia Uruguay   \n",
       "6041  19815                          Regionalia Venezuela   \n",
       "6042  19827                              Regionalia Chile   \n",
       "6043  19828                                    Vuela Cuba   \n",
       "6044  19830                                 All Australia   \n",
       "6045  19831                                    Fly Europa   \n",
       "6046  19834                                   FlyPortugal   \n",
       "6047  19845                          FTI Fluggesellschaft   \n",
       "\n",
       "                   country  \n",
       "0                     None  \n",
       "1            United States  \n",
       "2             South Africa  \n",
       "3           United Kingdom  \n",
       "4                   Russia  \n",
       "5                   Russia  \n",
       "6                   Russia  \n",
       "7           United Kingdom  \n",
       "8            United States  \n",
       "9            United States  \n",
       "10                Thailand  \n",
       "11                  Canada  \n",
       "12               Australia  \n",
       "13               Singapore  \n",
       "14                 Belgium  \n",
       "15          United Kingdom  \n",
       "16                  Canada  \n",
       "17                  Mexico  \n",
       "18                  Mexico  \n",
       "19                   Spain  \n",
       "20                  France  \n",
       "21           United States  \n",
       "22           United States  \n",
       "23           United States  \n",
       "24           United States  \n",
       "25           United States  \n",
       "26    United Arab Emirates  \n",
       "27       Republic of Korea  \n",
       "28                Pakistan  \n",
       "29               Australia  \n",
       "...                    ...  \n",
       "6018              Barbados  \n",
       "6019         United States  \n",
       "6020                Canada  \n",
       "6021         United States  \n",
       "6022        United Kingdom  \n",
       "6023         United States  \n",
       "6024               Romania  \n",
       "6025                Russia  \n",
       "6026         United States  \n",
       "6027             Lithuania  \n",
       "6028              Slovakia  \n",
       "6029             Argentina  \n",
       "6030         United States  \n",
       "6031                 China  \n",
       "6032          South Africa  \n",
       "6033                Mexico  \n",
       "6034        United Kingdom  \n",
       "6035                 Spain  \n",
       "6036               Iceland  \n",
       "6037        United Kingdom  \n",
       "6038                Brazil  \n",
       "6039              Colombia  \n",
       "6040               Uruguay  \n",
       "6041             Venezuela  \n",
       "6042                 Chile  \n",
       "6043                  Cuba  \n",
       "6044             Australia  \n",
       "6045                 Spain  \n",
       "6046              Portugal  \n",
       "6047               Germany  \n",
       "\n",
       "[6048 rows x 3 columns]"
      ]
     },
     "execution_count": 44,
     "metadata": {},
     "output_type": "execute_result"
    }
   ],
   "source": [
    "# Which countries have the highest amount of active airports?\n",
    "conn = sqlite3.connect(\"data/flights.db\")\n",
    "sql = '''\n",
    "SELECT id, name, country\n",
    "FROM airlines\n",
    "'''\n",
    "pd.read_sql_query(sql, conn)"
   ]
  },
  {
   "cell_type": "code",
   "execution_count": 46,
   "metadata": {},
   "outputs": [],
   "source": [
    "pd_con.close()\n",
    "conn.close()"
   ]
  },
  {
   "cell_type": "markdown",
   "metadata": {
    "slideshow": {
     "slide_type": "slide"
    }
   },
   "source": [
    "## Bonus: SQL-like querying in Pandas\n",
    "\n",
    "`.query()`\n",
    "\n",
    "[query documentation](https://pandas.pydata.org/pandas-docs/stable/reference/api/pandas.DataFrame.query.html)"
   ]
  },
  {
   "cell_type": "code",
   "execution_count": null,
   "metadata": {
    "slideshow": {
     "slide_type": "slide"
    }
   },
   "outputs": [],
   "source": [
    "# Get data for an example\n",
    "import pandas as pd\n",
    "shelter_data=pd.read_csv('https://data.austintexas.gov/api/views/9t4d-g238/rows.csv?accessType=DOWNLOAD')"
   ]
  },
  {
   "cell_type": "code",
   "execution_count": null,
   "metadata": {
    "slideshow": {
     "slide_type": "slide"
    }
   },
   "outputs": [],
   "source": [
    "max_data = shelter_data.query('Name == \"Max\"')\n",
    "max_data.head()\n"
   ]
  },
  {
   "cell_type": "code",
   "execution_count": null,
   "metadata": {},
   "outputs": [],
   "source": [
    "#vs\n",
    "shelter_data[shelter_data['Name']==\"Max\"].head()"
   ]
  },
  {
   "cell_type": "code",
   "execution_count": null,
   "metadata": {
    "slideshow": {
     "slide_type": "slide"
    }
   },
   "outputs": [],
   "source": [
    "shelter_data.query('`Animal Type` == \"Dog\"').head()"
   ]
  },
  {
   "cell_type": "code",
   "execution_count": null,
   "metadata": {},
   "outputs": [],
   "source": []
  }
 ],
 "metadata": {
  "kernelspec": {
   "display_name": "Python 3",
   "language": "python",
   "name": "python3"
  },
  "language_info": {
   "codemirror_mode": {
    "name": "ipython",
    "version": 3
   },
   "file_extension": ".py",
   "mimetype": "text/x-python",
   "name": "python",
   "nbconvert_exporter": "python",
   "pygments_lexer": "ipython3",
   "version": "3.7.1"
  }
 },
 "nbformat": 4,
 "nbformat_minor": 4
}
